{
 "cells": [
  {
   "cell_type": "markdown",
   "id": "a5d12629",
   "metadata": {},
   "source": [
    "## *Importing Important Library"
   ]
  },
  {
   "cell_type": "code",
   "execution_count": 1,
   "id": "70d54a14",
   "metadata": {},
   "outputs": [],
   "source": [
    "import os \n",
    "import pandas as pd \n",
    "import numpy as np\n",
    "import matplotlib.pyplot as plt\n",
    "import seaborn as sns\n",
    "\n",
    "sns.set()"
   ]
  },
  {
   "cell_type": "markdown",
   "id": "9a060d3f",
   "metadata": {},
   "source": [
    "## * Reading Data ."
   ]
  },
  {
   "cell_type": "code",
   "execution_count": 2,
   "id": "42404860",
   "metadata": {},
   "outputs": [],
   "source": [
    "df_churn = pd.read_csv(r\"C:\\Users\\Manish kumar\\Downloads\\Churn_Modelling_data.csv\")"
   ]
  },
  {
   "cell_type": "code",
   "execution_count": 3,
   "id": "dcf69ab0",
   "metadata": {},
   "outputs": [],
   "source": [
    "df=df_churn.copy()"
   ]
  },
  {
   "cell_type": "code",
   "execution_count": 4,
   "id": "df82bfb4",
   "metadata": {},
   "outputs": [
    {
     "data": {
      "text/html": [
       "<div>\n",
       "<style scoped>\n",
       "    .dataframe tbody tr th:only-of-type {\n",
       "        vertical-align: middle;\n",
       "    }\n",
       "\n",
       "    .dataframe tbody tr th {\n",
       "        vertical-align: top;\n",
       "    }\n",
       "\n",
       "    .dataframe thead th {\n",
       "        text-align: right;\n",
       "    }\n",
       "</style>\n",
       "<table border=\"1\" class=\"dataframe\">\n",
       "  <thead>\n",
       "    <tr style=\"text-align: right;\">\n",
       "      <th></th>\n",
       "      <th>RowNumber</th>\n",
       "      <th>CustomerId</th>\n",
       "      <th>Surname</th>\n",
       "      <th>CreditScore</th>\n",
       "      <th>Geography</th>\n",
       "      <th>Gender</th>\n",
       "      <th>Age</th>\n",
       "      <th>Tenure</th>\n",
       "      <th>Balance</th>\n",
       "      <th>NumOfProducts</th>\n",
       "      <th>HasCrCard</th>\n",
       "      <th>IsActiveMember</th>\n",
       "      <th>EstimatedSalary</th>\n",
       "      <th>Exited</th>\n",
       "    </tr>\n",
       "  </thead>\n",
       "  <tbody>\n",
       "    <tr>\n",
       "      <th>0</th>\n",
       "      <td>1</td>\n",
       "      <td>15634602</td>\n",
       "      <td>Hargrave</td>\n",
       "      <td>619</td>\n",
       "      <td>France</td>\n",
       "      <td>Female</td>\n",
       "      <td>42</td>\n",
       "      <td>2</td>\n",
       "      <td>0.00</td>\n",
       "      <td>1</td>\n",
       "      <td>1</td>\n",
       "      <td>1</td>\n",
       "      <td>101348.88</td>\n",
       "      <td>1</td>\n",
       "    </tr>\n",
       "    <tr>\n",
       "      <th>1</th>\n",
       "      <td>2</td>\n",
       "      <td>15647311</td>\n",
       "      <td>Hill</td>\n",
       "      <td>608</td>\n",
       "      <td>Spain</td>\n",
       "      <td>Female</td>\n",
       "      <td>41</td>\n",
       "      <td>1</td>\n",
       "      <td>83807.86</td>\n",
       "      <td>1</td>\n",
       "      <td>0</td>\n",
       "      <td>1</td>\n",
       "      <td>112542.58</td>\n",
       "      <td>0</td>\n",
       "    </tr>\n",
       "    <tr>\n",
       "      <th>2</th>\n",
       "      <td>3</td>\n",
       "      <td>15619304</td>\n",
       "      <td>Onio</td>\n",
       "      <td>502</td>\n",
       "      <td>France</td>\n",
       "      <td>Female</td>\n",
       "      <td>42</td>\n",
       "      <td>8</td>\n",
       "      <td>159660.80</td>\n",
       "      <td>3</td>\n",
       "      <td>1</td>\n",
       "      <td>0</td>\n",
       "      <td>113931.57</td>\n",
       "      <td>1</td>\n",
       "    </tr>\n",
       "    <tr>\n",
       "      <th>3</th>\n",
       "      <td>4</td>\n",
       "      <td>15701354</td>\n",
       "      <td>Boni</td>\n",
       "      <td>699</td>\n",
       "      <td>France</td>\n",
       "      <td>Female</td>\n",
       "      <td>39</td>\n",
       "      <td>1</td>\n",
       "      <td>0.00</td>\n",
       "      <td>2</td>\n",
       "      <td>0</td>\n",
       "      <td>0</td>\n",
       "      <td>93826.63</td>\n",
       "      <td>0</td>\n",
       "    </tr>\n",
       "    <tr>\n",
       "      <th>4</th>\n",
       "      <td>5</td>\n",
       "      <td>15737888</td>\n",
       "      <td>Mitchell</td>\n",
       "      <td>850</td>\n",
       "      <td>Spain</td>\n",
       "      <td>Female</td>\n",
       "      <td>43</td>\n",
       "      <td>2</td>\n",
       "      <td>125510.82</td>\n",
       "      <td>1</td>\n",
       "      <td>1</td>\n",
       "      <td>1</td>\n",
       "      <td>79084.10</td>\n",
       "      <td>0</td>\n",
       "    </tr>\n",
       "  </tbody>\n",
       "</table>\n",
       "</div>"
      ],
      "text/plain": [
       "   RowNumber  CustomerId   Surname  CreditScore Geography  Gender  Age  \\\n",
       "0          1    15634602  Hargrave          619    France  Female   42   \n",
       "1          2    15647311      Hill          608     Spain  Female   41   \n",
       "2          3    15619304      Onio          502    France  Female   42   \n",
       "3          4    15701354      Boni          699    France  Female   39   \n",
       "4          5    15737888  Mitchell          850     Spain  Female   43   \n",
       "\n",
       "   Tenure    Balance  NumOfProducts  HasCrCard  IsActiveMember  \\\n",
       "0       2       0.00              1          1               1   \n",
       "1       1   83807.86              1          0               1   \n",
       "2       8  159660.80              3          1               0   \n",
       "3       1       0.00              2          0               0   \n",
       "4       2  125510.82              1          1               1   \n",
       "\n",
       "   EstimatedSalary  Exited  \n",
       "0        101348.88       1  \n",
       "1        112542.58       0  \n",
       "2        113931.57       1  \n",
       "3         93826.63       0  \n",
       "4         79084.10       0  "
      ]
     },
     "execution_count": 4,
     "metadata": {},
     "output_type": "execute_result"
    }
   ],
   "source": [
    "df.head()"
   ]
  },
  {
   "cell_type": "code",
   "execution_count": 5,
   "id": "77a283a5",
   "metadata": {},
   "outputs": [
    {
     "data": {
      "text/plain": [
       "(10000, 14)"
      ]
     },
     "execution_count": 5,
     "metadata": {},
     "output_type": "execute_result"
    }
   ],
   "source": [
    "df.shape\n"
   ]
  },
  {
   "cell_type": "code",
   "execution_count": 6,
   "id": "6cc26118",
   "metadata": {},
   "outputs": [
    {
     "data": {
      "text/plain": [
       "Index(['RowNumber', 'CustomerId', 'Surname', 'CreditScore', 'Geography',\n",
       "       'Gender', 'Age', 'Tenure', 'Balance', 'NumOfProducts', 'HasCrCard',\n",
       "       'IsActiveMember', 'EstimatedSalary', 'Exited'],\n",
       "      dtype='object')"
      ]
     },
     "execution_count": 6,
     "metadata": {},
     "output_type": "execute_result"
    }
   ],
   "source": [
    "df.columns"
   ]
  },
  {
   "cell_type": "code",
   "execution_count": 7,
   "id": "cc90857e",
   "metadata": {},
   "outputs": [
    {
     "name": "stdout",
     "output_type": "stream",
     "text": [
      "<class 'pandas.core.frame.DataFrame'>\n",
      "RangeIndex: 10000 entries, 0 to 9999\n",
      "Data columns (total 14 columns):\n",
      " #   Column           Non-Null Count  Dtype  \n",
      "---  ------           --------------  -----  \n",
      " 0   RowNumber        10000 non-null  int64  \n",
      " 1   CustomerId       10000 non-null  int64  \n",
      " 2   Surname          10000 non-null  object \n",
      " 3   CreditScore      10000 non-null  int64  \n",
      " 4   Geography        10000 non-null  object \n",
      " 5   Gender           10000 non-null  object \n",
      " 6   Age              10000 non-null  int64  \n",
      " 7   Tenure           10000 non-null  int64  \n",
      " 8   Balance          10000 non-null  float64\n",
      " 9   NumOfProducts    10000 non-null  int64  \n",
      " 10  HasCrCard        10000 non-null  int64  \n",
      " 11  IsActiveMember   10000 non-null  int64  \n",
      " 12  EstimatedSalary  10000 non-null  float64\n",
      " 13  Exited           10000 non-null  int64  \n",
      "dtypes: float64(2), int64(9), object(3)\n",
      "memory usage: 1.1+ MB\n"
     ]
    }
   ],
   "source": [
    "df.info()"
   ]
  },
  {
   "cell_type": "markdown",
   "id": "9feb2039",
   "metadata": {},
   "source": [
    "### We are extracting Data types."
   ]
  },
  {
   "cell_type": "code",
   "execution_count": 8,
   "id": "c65886d8",
   "metadata": {},
   "outputs": [
    {
     "name": "stdout",
     "output_type": "stream",
     "text": [
      "Object Columns\n",
      "\n",
      "['Surname', 'Geography', 'Gender']\n",
      "3\n",
      "************************************************************\n",
      "Int Columns\n",
      "\n",
      "['RowNumber', 'CustomerId', 'CreditScore', 'Age', 'Tenure', 'Balance', 'NumOfProducts', 'HasCrCard', 'IsActiveMember', 'EstimatedSalary', 'Exited']\n",
      "11\n"
     ]
    }
   ],
   "source": [
    "obj = []\n",
    "num=[]\n",
    "\n",
    "col= df.columns\n",
    "\n",
    "for i in col:\n",
    "    if df[i].dtype=='object':\n",
    "        obj.append(i)\n",
    "    else:\n",
    "            num.append(i)\n",
    "print('Object Columns\\n')            \n",
    "print(obj) \n",
    "print(len(obj))\n",
    "print('*'*60)\n",
    "print('Int Columns\\n')\n",
    "print(num)\n",
    "print(len(num))"
   ]
  },
  {
   "cell_type": "markdown",
   "id": "976d4ef5",
   "metadata": {},
   "source": [
    "##### We have 3 object and 11 which is not object."
   ]
  },
  {
   "cell_type": "code",
   "execution_count": 9,
   "id": "0f5294f3",
   "metadata": {},
   "outputs": [
    {
     "data": {
      "text/plain": [
       "10000"
      ]
     },
     "execution_count": 9,
     "metadata": {},
     "output_type": "execute_result"
    }
   ],
   "source": [
    "len(df['RowNumber'].unique())"
   ]
  },
  {
   "cell_type": "code",
   "execution_count": 10,
   "id": "111d696d",
   "metadata": {},
   "outputs": [
    {
     "data": {
      "text/plain": [
       "10000"
      ]
     },
     "execution_count": 10,
     "metadata": {},
     "output_type": "execute_result"
    }
   ],
   "source": [
    "len(df['CustomerId'].unique())"
   ]
  },
  {
   "cell_type": "code",
   "execution_count": 11,
   "id": "455f236d",
   "metadata": {},
   "outputs": [
    {
     "data": {
      "text/plain": [
       "2932"
      ]
     },
     "execution_count": 11,
     "metadata": {},
     "output_type": "execute_result"
    }
   ],
   "source": [
    "len(df['Surname'].unique())"
   ]
  },
  {
   "cell_type": "markdown",
   "id": "179acd76",
   "metadata": {},
   "source": [
    "###### We have Distinct Rownumber and CustomerId so we can drop Rownumber ,and also we don't need Surname so we can it drop it too."
   ]
  },
  {
   "cell_type": "code",
   "execution_count": 12,
   "id": "b37c5765",
   "metadata": {},
   "outputs": [],
   "source": [
    "df.drop(columns=['RowNumber','Surname'], inplace=True )"
   ]
  },
  {
   "cell_type": "markdown",
   "id": "f723d290",
   "metadata": {},
   "source": [
    "### We can set CustomerId as index."
   ]
  },
  {
   "cell_type": "code",
   "execution_count": 13,
   "id": "0cbcf7b3",
   "metadata": {},
   "outputs": [],
   "source": [
    "df.set_index([\"CustomerId\"], inplace=True)"
   ]
  },
  {
   "cell_type": "code",
   "execution_count": 14,
   "id": "0900b844",
   "metadata": {},
   "outputs": [
    {
     "data": {
      "text/html": [
       "<div>\n",
       "<style scoped>\n",
       "    .dataframe tbody tr th:only-of-type {\n",
       "        vertical-align: middle;\n",
       "    }\n",
       "\n",
       "    .dataframe tbody tr th {\n",
       "        vertical-align: top;\n",
       "    }\n",
       "\n",
       "    .dataframe thead th {\n",
       "        text-align: right;\n",
       "    }\n",
       "</style>\n",
       "<table border=\"1\" class=\"dataframe\">\n",
       "  <thead>\n",
       "    <tr style=\"text-align: right;\">\n",
       "      <th></th>\n",
       "      <th>CreditScore</th>\n",
       "      <th>Geography</th>\n",
       "      <th>Gender</th>\n",
       "      <th>Age</th>\n",
       "      <th>Tenure</th>\n",
       "      <th>Balance</th>\n",
       "      <th>NumOfProducts</th>\n",
       "      <th>HasCrCard</th>\n",
       "      <th>IsActiveMember</th>\n",
       "      <th>EstimatedSalary</th>\n",
       "      <th>Exited</th>\n",
       "    </tr>\n",
       "    <tr>\n",
       "      <th>CustomerId</th>\n",
       "      <th></th>\n",
       "      <th></th>\n",
       "      <th></th>\n",
       "      <th></th>\n",
       "      <th></th>\n",
       "      <th></th>\n",
       "      <th></th>\n",
       "      <th></th>\n",
       "      <th></th>\n",
       "      <th></th>\n",
       "      <th></th>\n",
       "    </tr>\n",
       "  </thead>\n",
       "  <tbody>\n",
       "    <tr>\n",
       "      <th>15634602</th>\n",
       "      <td>619</td>\n",
       "      <td>France</td>\n",
       "      <td>Female</td>\n",
       "      <td>42</td>\n",
       "      <td>2</td>\n",
       "      <td>0.00</td>\n",
       "      <td>1</td>\n",
       "      <td>1</td>\n",
       "      <td>1</td>\n",
       "      <td>101348.88</td>\n",
       "      <td>1</td>\n",
       "    </tr>\n",
       "    <tr>\n",
       "      <th>15647311</th>\n",
       "      <td>608</td>\n",
       "      <td>Spain</td>\n",
       "      <td>Female</td>\n",
       "      <td>41</td>\n",
       "      <td>1</td>\n",
       "      <td>83807.86</td>\n",
       "      <td>1</td>\n",
       "      <td>0</td>\n",
       "      <td>1</td>\n",
       "      <td>112542.58</td>\n",
       "      <td>0</td>\n",
       "    </tr>\n",
       "    <tr>\n",
       "      <th>15619304</th>\n",
       "      <td>502</td>\n",
       "      <td>France</td>\n",
       "      <td>Female</td>\n",
       "      <td>42</td>\n",
       "      <td>8</td>\n",
       "      <td>159660.80</td>\n",
       "      <td>3</td>\n",
       "      <td>1</td>\n",
       "      <td>0</td>\n",
       "      <td>113931.57</td>\n",
       "      <td>1</td>\n",
       "    </tr>\n",
       "    <tr>\n",
       "      <th>15701354</th>\n",
       "      <td>699</td>\n",
       "      <td>France</td>\n",
       "      <td>Female</td>\n",
       "      <td>39</td>\n",
       "      <td>1</td>\n",
       "      <td>0.00</td>\n",
       "      <td>2</td>\n",
       "      <td>0</td>\n",
       "      <td>0</td>\n",
       "      <td>93826.63</td>\n",
       "      <td>0</td>\n",
       "    </tr>\n",
       "    <tr>\n",
       "      <th>15737888</th>\n",
       "      <td>850</td>\n",
       "      <td>Spain</td>\n",
       "      <td>Female</td>\n",
       "      <td>43</td>\n",
       "      <td>2</td>\n",
       "      <td>125510.82</td>\n",
       "      <td>1</td>\n",
       "      <td>1</td>\n",
       "      <td>1</td>\n",
       "      <td>79084.10</td>\n",
       "      <td>0</td>\n",
       "    </tr>\n",
       "  </tbody>\n",
       "</table>\n",
       "</div>"
      ],
      "text/plain": [
       "            CreditScore Geography  Gender  Age  Tenure    Balance  \\\n",
       "CustomerId                                                          \n",
       "15634602            619    France  Female   42       2       0.00   \n",
       "15647311            608     Spain  Female   41       1   83807.86   \n",
       "15619304            502    France  Female   42       8  159660.80   \n",
       "15701354            699    France  Female   39       1       0.00   \n",
       "15737888            850     Spain  Female   43       2  125510.82   \n",
       "\n",
       "            NumOfProducts  HasCrCard  IsActiveMember  EstimatedSalary  Exited  \n",
       "CustomerId                                                                     \n",
       "15634602                1          1               1        101348.88       1  \n",
       "15647311                1          0               1        112542.58       0  \n",
       "15619304                3          1               0        113931.57       1  \n",
       "15701354                2          0               0         93826.63       0  \n",
       "15737888                1          1               1         79084.10       0  "
      ]
     },
     "execution_count": 14,
     "metadata": {},
     "output_type": "execute_result"
    }
   ],
   "source": [
    "df.head()"
   ]
  },
  {
   "cell_type": "markdown",
   "id": "25df4a02",
   "metadata": {},
   "source": [
    "### Checking Null values"
   ]
  },
  {
   "cell_type": "code",
   "execution_count": 15,
   "id": "18105c4e",
   "metadata": {},
   "outputs": [
    {
     "data": {
      "text/plain": [
       "CreditScore        0\n",
       "Geography          0\n",
       "Gender             0\n",
       "Age                0\n",
       "Tenure             0\n",
       "Balance            0\n",
       "NumOfProducts      0\n",
       "HasCrCard          0\n",
       "IsActiveMember     0\n",
       "EstimatedSalary    0\n",
       "Exited             0\n",
       "dtype: int64"
      ]
     },
     "execution_count": 15,
     "metadata": {},
     "output_type": "execute_result"
    }
   ],
   "source": [
    "df.isnull().sum()"
   ]
  },
  {
   "cell_type": "markdown",
   "id": "cb948d96",
   "metadata": {},
   "source": [
    "##### We dont have any null values."
   ]
  },
  {
   "cell_type": "code",
   "execution_count": 16,
   "id": "84f254a0",
   "metadata": {},
   "outputs": [
    {
     "name": "stdout",
     "output_type": "stream",
     "text": [
      "Object Columns\n",
      "\n",
      "['Geography', 'Gender']\n",
      "2\n",
      "************************************************************\n",
      "Int Columns\n",
      "\n",
      "['CreditScore', 'Age', 'Tenure', 'Balance', 'NumOfProducts', 'HasCrCard', 'IsActiveMember', 'EstimatedSalary', 'Exited']\n",
      "9\n"
     ]
    }
   ],
   "source": [
    "obj = []\n",
    "num=[]\n",
    "\n",
    "col= df.columns\n",
    "\n",
    "for i in col:\n",
    "    if df[i].dtype=='object':\n",
    "        obj.append(i)\n",
    "    else:\n",
    "            num.append(i)\n",
    "print('Object Columns\\n')            \n",
    "print(obj) \n",
    "print(len(obj))\n",
    "print('*'*60)\n",
    "print('Int Columns\\n')\n",
    "print(num)\n",
    "print(len(num))"
   ]
  },
  {
   "cell_type": "code",
   "execution_count": 17,
   "id": "fd588cfc",
   "metadata": {},
   "outputs": [],
   "source": [
    "def object_cat(data,x):              \n",
    "    value=data[x].value_counts()\n",
    "    unique= data[x].unique()\n",
    "    print('Values:\\n',value,'\\n')\n",
    "    print('Unique:\\n',unique)\n",
    "    \n",
    "    sns.countplot(data=data,x=x)\n",
    "   \n",
    "    plt.show()"
   ]
  },
  {
   "cell_type": "code",
   "execution_count": 18,
   "id": "5009488f",
   "metadata": {},
   "outputs": [
    {
     "name": "stdout",
     "output_type": "stream",
     "text": [
      "Values:\n",
      " France     5014\n",
      "Germany    2509\n",
      "Spain      2477\n",
      "Name: Geography, dtype: int64 \n",
      "\n",
      "Unique:\n",
      " ['France' 'Spain' 'Germany']\n"
     ]
    },
    {
     "data": {
      "image/png": "[encoded data removed]",
      "text/plain": [
       "<Figure size 640x480 with 1 Axes>"
      ]
     },
     "metadata": {},
     "output_type": "display_data"
    }
   ],
   "source": [
    "object_cat(data= df, x='Geography')"
   ]
  },
  {
   "cell_type": "code",
   "execution_count": 19,
   "id": "651c4a0b",
   "metadata": {},
   "outputs": [
    {
     "name": "stdout",
     "output_type": "stream",
     "text": [
      "Values:\n",
      " Male      5457\n",
      "Female    4543\n",
      "Name: Gender, dtype: int64 \n",
      "\n",
      "Unique:\n",
      " ['Female' 'Male']\n"
     ]
    },
    {
     "data": {
      "image/png": "[encoded data removed]",
      "text/plain": [
       "<Figure size 640x480 with 1 Axes>"
      ]
     },
     "metadata": {},
     "output_type": "display_data"
    }
   ],
   "source": [
    "object_cat(data= df, x='Gender')"
   ]
  },
  {
   "cell_type": "code",
   "execution_count": 20,
   "id": "443abed4",
   "metadata": {},
   "outputs": [
    {
     "name": "stdout",
     "output_type": "stream",
     "text": [
      "Values:\n",
      " 2     1048\n",
      "1     1035\n",
      "7     1028\n",
      "8     1025\n",
      "5     1012\n",
      "3     1009\n",
      "4      989\n",
      "9      984\n",
      "6      967\n",
      "10     490\n",
      "0      413\n",
      "Name: Tenure, dtype: int64 \n",
      "\n",
      "Unique:\n",
      " [ 2  1  8  7  4  6  3 10  5  9  0]\n"
     ]
    },
    {
     "data": {
      "image/png": "[encoded data removed]",
      "text/plain": [
       "<Figure size 640x480 with 1 Axes>"
      ]
     },
     "metadata": {},
     "output_type": "display_data"
    }
   ],
   "source": [
    "object_cat(data= df, x='Tenure')"
   ]
  },
  {
   "cell_type": "code",
   "execution_count": 21,
   "id": "8702f56a",
   "metadata": {},
   "outputs": [
    {
     "name": "stdout",
     "output_type": "stream",
     "text": [
      "Values:\n",
      " 1    5084\n",
      "2    4590\n",
      "3     266\n",
      "4      60\n",
      "Name: NumOfProducts, dtype: int64 \n",
      "\n",
      "Unique:\n",
      " [1 3 2 4]\n"
     ]
    },
    {
     "data": {
      "image/png": "[encoded data removed]",
      "text/plain": [
       "<Figure size 640x480 with 1 Axes>"
      ]
     },
     "metadata": {},
     "output_type": "display_data"
    }
   ],
   "source": [
    "object_cat(data= df, x='NumOfProducts')"
   ]
  },
  {
   "cell_type": "code",
   "execution_count": 22,
   "id": "86a79ca7",
   "metadata": {},
   "outputs": [
    {
     "name": "stdout",
     "output_type": "stream",
     "text": [
      "Values:\n",
      " 1    7055\n",
      "0    2945\n",
      "Name: HasCrCard, dtype: int64 \n",
      "\n",
      "Unique:\n",
      " [1 0]\n"
     ]
    },
    {
     "data": {
      "image/png": "[encoded data removed]",
      "text/plain": [
       "<Figure size 640x480 with 1 Axes>"
      ]
     },
     "metadata": {},
     "output_type": "display_data"
    }
   ],
   "source": [
    "object_cat(data=df, x='HasCrCard')"
   ]
  },
  {
   "cell_type": "code",
   "execution_count": 23,
   "id": "9a90161e",
   "metadata": {},
   "outputs": [
    {
     "name": "stdout",
     "output_type": "stream",
     "text": [
      "Values:\n",
      " 1    5151\n",
      "0    4849\n",
      "Name: IsActiveMember, dtype: int64 \n",
      "\n",
      "Unique:\n",
      " [1 0]\n"
     ]
    },
    {
     "data": {
      "image/png": "[encoded data removed]",
      "text/plain": [
       "<Figure size 640x480 with 1 Axes>"
      ]
     },
     "metadata": {},
     "output_type": "display_data"
    }
   ],
   "source": [
    "object_cat(data=df, x='IsActiveMember')"
   ]
  },
  {
   "cell_type": "code",
   "execution_count": 24,
   "id": "0ac48138",
   "metadata": {},
   "outputs": [],
   "source": [
    "def object_cat_hue(data,x,hue):              \n",
    "    value=data[x].value_counts()\n",
    "    unique= data[x].unique()\n",
    "    print('Values:\\n',value,'\\n')\n",
    "    print('Unique:\\n',unique)\n",
    "    print('***************************************************************')\n",
    "    value_hue=data[hue].value_counts()\n",
    "    unique_hue= data[hue].unique()\n",
    "    print('Values:\\n',value_hue,'\\n')\n",
    "    print('Unique:\\n',unique_hue)\n",
    "    \n",
    "    sns.countplot(data=data,x=x,hue=hue)\n",
    "   \n",
    "    plt.show()"
   ]
  },
  {
   "cell_type": "markdown",
   "id": "29852093",
   "metadata": {},
   "source": [
    "### We can check how many active member are male and female"
   ]
  },
  {
   "cell_type": "code",
   "execution_count": 25,
   "id": "e767b6eb",
   "metadata": {},
   "outputs": [
    {
     "name": "stdout",
     "output_type": "stream",
     "text": [
      "Values:\n",
      " 1    5151\n",
      "0    4849\n",
      "Name: IsActiveMember, dtype: int64 \n",
      "\n",
      "Unique:\n",
      " [1 0]\n",
      "***************************************************************\n",
      "Values:\n",
      " Male      5457\n",
      "Female    4543\n",
      "Name: Gender, dtype: int64 \n",
      "\n",
      "Unique:\n",
      " ['Female' 'Male']\n"
     ]
    },
    {
     "data": {
      "image/png": "[encoded data removed]",
      "text/plain": [
       "<Figure size 640x480 with 1 Axes>"
      ]
     },
     "metadata": {},
     "output_type": "display_data"
    }
   ],
   "source": [
    "\n",
    "object_cat_hue(data= df, x='IsActiveMember',hue='Gender' )"
   ]
  },
  {
   "cell_type": "markdown",
   "id": "dc4719d8",
   "metadata": {},
   "source": [
    "###### we can see the ratio of male and female member who is active or not."
   ]
  },
  {
   "cell_type": "markdown",
   "id": "3b6fceb7",
   "metadata": {},
   "source": [
    "### We can check the ratio of gender who is from which Geography."
   ]
  },
  {
   "cell_type": "code",
   "execution_count": 26,
   "id": "67174362",
   "metadata": {},
   "outputs": [
    {
     "name": "stdout",
     "output_type": "stream",
     "text": [
      "Values:\n",
      " France     5014\n",
      "Germany    2509\n",
      "Spain      2477\n",
      "Name: Geography, dtype: int64 \n",
      "\n",
      "Unique:\n",
      " ['France' 'Spain' 'Germany']\n",
      "***************************************************************\n",
      "Values:\n",
      " Male      5457\n",
      "Female    4543\n",
      "Name: Gender, dtype: int64 \n",
      "\n",
      "Unique:\n",
      " ['Female' 'Male']\n"
     ]
    },
    {
     "data": {
      "image/png": "[encoded data removed]",
      "text/plain": [
       "<Figure size 640x480 with 1 Axes>"
      ]
     },
     "metadata": {},
     "output_type": "display_data"
    }
   ],
   "source": [
    "object_cat_hue(data= df, x='Geography',hue='Gender' )"
   ]
  },
  {
   "cell_type": "markdown",
   "id": "7d3df859",
   "metadata": {},
   "source": [
    "##### we can see the ratio of male and female member who is from which Geography."
   ]
  },
  {
   "cell_type": "code",
   "execution_count": 27,
   "id": "6ca81373",
   "metadata": {},
   "outputs": [
    {
     "name": "stdout",
     "output_type": "stream",
     "text": [
      "Values:\n",
      " 0    7963\n",
      "1    2037\n",
      "Name: Exited, dtype: int64 \n",
      "\n",
      "Unique:\n",
      " [1 0]\n"
     ]
    },
    {
     "data": {
      "image/png": "[encoded data removed]",
      "text/plain": [
       "<Figure size 640x480 with 1 Axes>"
      ]
     },
     "metadata": {},
     "output_type": "display_data"
    }
   ],
   "source": [
    "object_cat(data= df, x ='Exited')"
   ]
  },
  {
   "cell_type": "code",
   "execution_count": 28,
   "id": "53e73353",
   "metadata": {},
   "outputs": [
    {
     "name": "stdout",
     "output_type": "stream",
     "text": [
      "Not Exited: 79.63 %\n",
      "**********************************************************************\n",
      "Not Exited: 20.369999999999997 %\n"
     ]
    }
   ],
   "source": [
    "print('Not Exited:',(len(df[df.Exited==0])/len(df.Exited)*100),'%')\n",
    "\n",
    "print('**********************************************************************')\n",
    "\n",
    "print('Not Exited:',(len(df[df.Exited==1])/len(df.Exited)*100),'%')"
   ]
  },
  {
   "cell_type": "markdown",
   "id": "f4dca0d0",
   "metadata": {},
   "source": [
    "#### We can see there 79.6% member who is Exited abd 20.4% memeber who dont Exited. "
   ]
  },
  {
   "cell_type": "markdown",
   "id": "4c288b6c",
   "metadata": {},
   "source": [
    "### I can check the ratio of gender with exited "
   ]
  },
  {
   "cell_type": "code",
   "execution_count": 29,
   "id": "f981c371",
   "metadata": {},
   "outputs": [
    {
     "name": "stdout",
     "output_type": "stream",
     "text": [
      "Values:\n",
      " Male      5457\n",
      "Female    4543\n",
      "Name: Gender, dtype: int64 \n",
      "\n",
      "Unique:\n",
      " ['Female' 'Male']\n",
      "***************************************************************\n",
      "Values:\n",
      " 0    7963\n",
      "1    2037\n",
      "Name: Exited, dtype: int64 \n",
      "\n",
      "Unique:\n",
      " [1 0]\n"
     ]
    },
    {
     "data": {
      "image/png": "[encoded data removed]",
      "text/plain": [
       "<Figure size 640x480 with 1 Axes>"
      ]
     },
     "metadata": {},
     "output_type": "display_data"
    }
   ],
   "source": [
    "object_cat_hue(data= df, x='Gender', hue='Exited')"
   ]
  },
  {
   "cell_type": "markdown",
   "id": "1875a445",
   "metadata": {},
   "source": [
    "##### We can see the the ratio of gender who is exited of not  "
   ]
  },
  {
   "cell_type": "code",
   "execution_count": 30,
   "id": "60ed196e",
   "metadata": {},
   "outputs": [
    {
     "data": {
      "image/png": "[encoded data removed]",
      "text/plain": [
       "<Figure size 640x480 with 1 Axes>"
      ]
     },
     "metadata": {},
     "output_type": "display_data"
    }
   ],
   "source": [
    "sns.histplot(df.CreditScore, kde=True,color='g')\n",
    "plt.show()"
   ]
  },
  {
   "cell_type": "markdown",
   "id": "e120716f",
   "metadata": {},
   "source": [
    "#### Most of credit score are lies between 600 and 750."
   ]
  },
  {
   "cell_type": "code",
   "execution_count": 31,
   "id": "8a8d430c",
   "metadata": {},
   "outputs": [
    {
     "data": {
      "image/png": "[encoded data removed]",
      "text/plain": [
       "<Figure size 640x480 with 1 Axes>"
      ]
     },
     "metadata": {},
     "output_type": "display_data"
    }
   ],
   "source": [
    "sns.histplot(df.EstimatedSalary, kde=True,color='r')\n",
    "plt.show()"
   ]
  },
  {
   "cell_type": "code",
   "execution_count": 32,
   "id": "e95df3ec",
   "metadata": {},
   "outputs": [
    {
     "data": {
      "image/png": "[encoded data removed]",
      "text/plain": [
       "<Figure size 640x480 with 1 Axes>"
      ]
     },
     "metadata": {},
     "output_type": "display_data"
    }
   ],
   "source": [
    "sns.histplot(df.Age, kde=True,color='r')\n",
    "plt.show()"
   ]
  },
  {
   "cell_type": "markdown",
   "id": "dc20fe20",
   "metadata": {},
   "source": [
    "### We can give a range of Credit Score and Age."
   ]
  },
  {
   "cell_type": "code",
   "execution_count": 33,
   "id": "e64721ca",
   "metadata": {},
   "outputs": [],
   "source": [
    "def credit(x):\n",
    "    if x<722:\n",
    "        return \"VeryLowCredit\"\n",
    "    elif x >=722 and x<=747:\n",
    "        return \"LowCredit\"\n",
    "    elif x >747 and x <765:\n",
    "        return \"GoodCredit\"\n",
    "    elif x>=765 and x<=777:\n",
    "        return \"VeryGoodCredit\"\n",
    "    else:\n",
    "        return \"ExcellentCredit\""
   ]
  },
  {
   "cell_type": "code",
   "execution_count": 34,
   "id": "0dcdb2dd",
   "metadata": {},
   "outputs": [],
   "source": [
    "df[\"CreditScore_cat\"]=df[\"CreditScore\"].apply(credit)"
   ]
  },
  {
   "cell_type": "code",
   "execution_count": 35,
   "id": "6d9bd8bb",
   "metadata": {},
   "outputs": [
    {
     "data": {
      "text/plain": [
       "count    10000.000000\n",
       "mean        38.921800\n",
       "std         10.487806\n",
       "min         18.000000\n",
       "10%         27.000000\n",
       "20%         31.000000\n",
       "30%         33.000000\n",
       "40%         35.000000\n",
       "50%         37.000000\n",
       "60%         40.000000\n",
       "70%         42.000000\n",
       "80%         46.000000\n",
       "90%         53.000000\n",
       "99%         72.000000\n",
       "max         92.000000\n",
       "Name: Age, dtype: float64"
      ]
     },
     "execution_count": 35,
     "metadata": {},
     "output_type": "execute_result"
    }
   ],
   "source": [
    "df.Age.describe(percentiles=[.1,.2,.3,.4,.5,.6,.7,.8,.9,.99])"
   ]
  },
  {
   "cell_type": "code",
   "execution_count": 36,
   "id": "8ffece0f",
   "metadata": {},
   "outputs": [
    {
     "data": {
      "text/plain": [
       "92"
      ]
     },
     "execution_count": 36,
     "metadata": {},
     "output_type": "execute_result"
    }
   ],
   "source": [
    "df.Age.max()"
   ]
  },
  {
   "cell_type": "code",
   "execution_count": 37,
   "id": "48db5ac7",
   "metadata": {},
   "outputs": [
    {
     "data": {
      "text/plain": [
       "18"
      ]
     },
     "execution_count": 37,
     "metadata": {},
     "output_type": "execute_result"
    }
   ],
   "source": [
    "df.Age.min()"
   ]
  },
  {
   "cell_type": "code",
   "execution_count": 38,
   "id": "8c1805d8",
   "metadata": {},
   "outputs": [
    {
     "data": {
      "text/plain": [
       "38.9218"
      ]
     },
     "execution_count": 38,
     "metadata": {},
     "output_type": "execute_result"
    }
   ],
   "source": [
    "df.Age.mean()"
   ]
  },
  {
   "cell_type": "code",
   "execution_count": 39,
   "id": "43f5dcdd",
   "metadata": {},
   "outputs": [],
   "source": [
    "def age(x):\n",
    "    if x<30:\n",
    "        return \"youngAdult\"\n",
    "    elif x>=30 and x<50:\n",
    "        return \"Adult\"\n",
    "    elif x>=50 and x<65:\n",
    "        return \"AeniorAdult\"\n",
    "    else :\n",
    "        return \"Seniors_65+\""
   ]
  },
  {
   "cell_type": "code",
   "execution_count": 40,
   "id": "a7314d09",
   "metadata": {},
   "outputs": [],
   "source": [
    "df[\"Age_cat\"]=df[\"Age\"].apply(age)"
   ]
  },
  {
   "cell_type": "code",
   "execution_count": 41,
   "id": "1a983cf3",
   "metadata": {},
   "outputs": [
    {
     "data": {
      "text/html": [
       "<div>\n",
       "<style scoped>\n",
       "    .dataframe tbody tr th:only-of-type {\n",
       "        vertical-align: middle;\n",
       "    }\n",
       "\n",
       "    .dataframe tbody tr th {\n",
       "        vertical-align: top;\n",
       "    }\n",
       "\n",
       "    .dataframe thead th {\n",
       "        text-align: right;\n",
       "    }\n",
       "</style>\n",
       "<table border=\"1\" class=\"dataframe\">\n",
       "  <thead>\n",
       "    <tr style=\"text-align: right;\">\n",
       "      <th></th>\n",
       "      <th>count</th>\n",
       "      <th>mean</th>\n",
       "      <th>std</th>\n",
       "      <th>min</th>\n",
       "      <th>1%</th>\n",
       "      <th>2%</th>\n",
       "      <th>30%</th>\n",
       "      <th>40%</th>\n",
       "      <th>50%</th>\n",
       "      <th>60%</th>\n",
       "      <th>70%</th>\n",
       "      <th>80%</th>\n",
       "      <th>98%</th>\n",
       "      <th>99%</th>\n",
       "      <th>max</th>\n",
       "    </tr>\n",
       "  </thead>\n",
       "  <tbody>\n",
       "    <tr>\n",
       "      <th>CreditScore</th>\n",
       "      <td>10000.0</td>\n",
       "      <td>650.528800</td>\n",
       "      <td>96.653299</td>\n",
       "      <td>350.00</td>\n",
       "      <td>432.0000</td>\n",
       "      <td>452.0000</td>\n",
       "      <td>598.700</td>\n",
       "      <td>627.000</td>\n",
       "      <td>652.000</td>\n",
       "      <td>678.000</td>\n",
       "      <td>704.000</td>\n",
       "      <td>735.000</td>\n",
       "      <td>850.0000</td>\n",
       "      <td>850.0000</td>\n",
       "      <td>850.00</td>\n",
       "    </tr>\n",
       "    <tr>\n",
       "      <th>Age</th>\n",
       "      <td>10000.0</td>\n",
       "      <td>38.921800</td>\n",
       "      <td>10.487806</td>\n",
       "      <td>18.00</td>\n",
       "      <td>21.0000</td>\n",
       "      <td>22.0000</td>\n",
       "      <td>33.000</td>\n",
       "      <td>35.000</td>\n",
       "      <td>37.000</td>\n",
       "      <td>40.000</td>\n",
       "      <td>42.000</td>\n",
       "      <td>46.000</td>\n",
       "      <td>67.0000</td>\n",
       "      <td>72.0000</td>\n",
       "      <td>92.00</td>\n",
       "    </tr>\n",
       "    <tr>\n",
       "      <th>Tenure</th>\n",
       "      <td>10000.0</td>\n",
       "      <td>5.012800</td>\n",
       "      <td>2.892174</td>\n",
       "      <td>0.00</td>\n",
       "      <td>0.0000</td>\n",
       "      <td>0.0000</td>\n",
       "      <td>3.000</td>\n",
       "      <td>4.000</td>\n",
       "      <td>5.000</td>\n",
       "      <td>6.000</td>\n",
       "      <td>7.000</td>\n",
       "      <td>8.000</td>\n",
       "      <td>10.0000</td>\n",
       "      <td>10.0000</td>\n",
       "      <td>10.00</td>\n",
       "    </tr>\n",
       "    <tr>\n",
       "      <th>Balance</th>\n",
       "      <td>10000.0</td>\n",
       "      <td>76485.889288</td>\n",
       "      <td>62397.405202</td>\n",
       "      <td>0.00</td>\n",
       "      <td>0.0000</td>\n",
       "      <td>0.0000</td>\n",
       "      <td>0.000</td>\n",
       "      <td>73080.908</td>\n",
       "      <td>97198.540</td>\n",
       "      <td>110138.926</td>\n",
       "      <td>122029.870</td>\n",
       "      <td>133710.358</td>\n",
       "      <td>176915.6732</td>\n",
       "      <td>185967.9854</td>\n",
       "      <td>250898.09</td>\n",
       "    </tr>\n",
       "    <tr>\n",
       "      <th>NumOfProducts</th>\n",
       "      <td>10000.0</td>\n",
       "      <td>1.530200</td>\n",
       "      <td>0.581654</td>\n",
       "      <td>1.00</td>\n",
       "      <td>1.0000</td>\n",
       "      <td>1.0000</td>\n",
       "      <td>1.000</td>\n",
       "      <td>1.000</td>\n",
       "      <td>1.000</td>\n",
       "      <td>2.000</td>\n",
       "      <td>2.000</td>\n",
       "      <td>2.000</td>\n",
       "      <td>3.0000</td>\n",
       "      <td>3.0000</td>\n",
       "      <td>4.00</td>\n",
       "    </tr>\n",
       "    <tr>\n",
       "      <th>HasCrCard</th>\n",
       "      <td>10000.0</td>\n",
       "      <td>0.705500</td>\n",
       "      <td>0.455840</td>\n",
       "      <td>0.00</td>\n",
       "      <td>0.0000</td>\n",
       "      <td>0.0000</td>\n",
       "      <td>1.000</td>\n",
       "      <td>1.000</td>\n",
       "      <td>1.000</td>\n",
       "      <td>1.000</td>\n",
       "      <td>1.000</td>\n",
       "      <td>1.000</td>\n",
       "      <td>1.0000</td>\n",
       "      <td>1.0000</td>\n",
       "      <td>1.00</td>\n",
       "    </tr>\n",
       "    <tr>\n",
       "      <th>IsActiveMember</th>\n",
       "      <td>10000.0</td>\n",
       "      <td>0.515100</td>\n",
       "      <td>0.499797</td>\n",
       "      <td>0.00</td>\n",
       "      <td>0.0000</td>\n",
       "      <td>0.0000</td>\n",
       "      <td>0.000</td>\n",
       "      <td>0.000</td>\n",
       "      <td>1.000</td>\n",
       "      <td>1.000</td>\n",
       "      <td>1.000</td>\n",
       "      <td>1.000</td>\n",
       "      <td>1.0000</td>\n",
       "      <td>1.0000</td>\n",
       "      <td>1.00</td>\n",
       "    </tr>\n",
       "    <tr>\n",
       "      <th>EstimatedSalary</th>\n",
       "      <td>10000.0</td>\n",
       "      <td>100090.239881</td>\n",
       "      <td>57510.492818</td>\n",
       "      <td>11.58</td>\n",
       "      <td>1842.8253</td>\n",
       "      <td>3769.4488</td>\n",
       "      <td>60736.079</td>\n",
       "      <td>80238.340</td>\n",
       "      <td>100193.915</td>\n",
       "      <td>119710.038</td>\n",
       "      <td>139432.236</td>\n",
       "      <td>159836.726</td>\n",
       "      <td>196278.5228</td>\n",
       "      <td>198069.7345</td>\n",
       "      <td>199992.48</td>\n",
       "    </tr>\n",
       "    <tr>\n",
       "      <th>Exited</th>\n",
       "      <td>10000.0</td>\n",
       "      <td>0.203700</td>\n",
       "      <td>0.402769</td>\n",
       "      <td>0.00</td>\n",
       "      <td>0.0000</td>\n",
       "      <td>0.0000</td>\n",
       "      <td>0.000</td>\n",
       "      <td>0.000</td>\n",
       "      <td>0.000</td>\n",
       "      <td>0.000</td>\n",
       "      <td>0.000</td>\n",
       "      <td>1.000</td>\n",
       "      <td>1.0000</td>\n",
       "      <td>1.0000</td>\n",
       "      <td>1.00</td>\n",
       "    </tr>\n",
       "  </tbody>\n",
       "</table>\n",
       "</div>"
      ],
      "text/plain": [
       "                   count           mean           std     min         1%  \\\n",
       "CreditScore      10000.0     650.528800     96.653299  350.00   432.0000   \n",
       "Age              10000.0      38.921800     10.487806   18.00    21.0000   \n",
       "Tenure           10000.0       5.012800      2.892174    0.00     0.0000   \n",
       "Balance          10000.0   76485.889288  62397.405202    0.00     0.0000   \n",
       "NumOfProducts    10000.0       1.530200      0.581654    1.00     1.0000   \n",
       "HasCrCard        10000.0       0.705500      0.455840    0.00     0.0000   \n",
       "IsActiveMember   10000.0       0.515100      0.499797    0.00     0.0000   \n",
       "EstimatedSalary  10000.0  100090.239881  57510.492818   11.58  1842.8253   \n",
       "Exited           10000.0       0.203700      0.402769    0.00     0.0000   \n",
       "\n",
       "                        2%        30%        40%         50%         60%  \\\n",
       "CreditScore       452.0000    598.700    627.000     652.000     678.000   \n",
       "Age                22.0000     33.000     35.000      37.000      40.000   \n",
       "Tenure              0.0000      3.000      4.000       5.000       6.000   \n",
       "Balance             0.0000      0.000  73080.908   97198.540  110138.926   \n",
       "NumOfProducts       1.0000      1.000      1.000       1.000       2.000   \n",
       "HasCrCard           0.0000      1.000      1.000       1.000       1.000   \n",
       "IsActiveMember      0.0000      0.000      0.000       1.000       1.000   \n",
       "EstimatedSalary  3769.4488  60736.079  80238.340  100193.915  119710.038   \n",
       "Exited              0.0000      0.000      0.000       0.000       0.000   \n",
       "\n",
       "                        70%         80%          98%          99%        max  \n",
       "CreditScore         704.000     735.000     850.0000     850.0000     850.00  \n",
       "Age                  42.000      46.000      67.0000      72.0000      92.00  \n",
       "Tenure                7.000       8.000      10.0000      10.0000      10.00  \n",
       "Balance          122029.870  133710.358  176915.6732  185967.9854  250898.09  \n",
       "NumOfProducts         2.000       2.000       3.0000       3.0000       4.00  \n",
       "HasCrCard             1.000       1.000       1.0000       1.0000       1.00  \n",
       "IsActiveMember        1.000       1.000       1.0000       1.0000       1.00  \n",
       "EstimatedSalary  139432.236  159836.726  196278.5228  198069.7345  199992.48  \n",
       "Exited                0.000       1.000       1.0000       1.0000       1.00  "
      ]
     },
     "execution_count": 41,
     "metadata": {},
     "output_type": "execute_result"
    }
   ],
   "source": [
    "df.describe(percentiles=[.01,.02,.3,.4,.5,.6,.7,.8,.98,.99]).T"
   ]
  },
  {
   "cell_type": "code",
   "execution_count": 42,
   "id": "960842c9",
   "metadata": {},
   "outputs": [
    {
     "data": {
      "text/plain": [
       "Male      5457\n",
       "Female    4543\n",
       "Name: Gender, dtype: int64"
      ]
     },
     "execution_count": 42,
     "metadata": {},
     "output_type": "execute_result"
    }
   ],
   "source": [
    "df.Gender.value_counts()"
   ]
  },
  {
   "cell_type": "code",
   "execution_count": 43,
   "id": "58d999b9",
   "metadata": {},
   "outputs": [],
   "source": [
    "df['Gender']= df['Gender'].map({'Male':1,'Female':0})"
   ]
  },
  {
   "cell_type": "code",
   "execution_count": 44,
   "id": "b5021bfd",
   "metadata": {},
   "outputs": [
    {
     "name": "stdout",
     "output_type": "stream",
     "text": [
      "Object Columns\n",
      "\n",
      "['Geography', 'CreditScore_cat', 'Age_cat']\n",
      "3\n",
      "************************************************************\n",
      "Int Columns\n",
      "\n",
      "['CreditScore', 'Gender', 'Age', 'Tenure', 'Balance', 'NumOfProducts', 'HasCrCard', 'IsActiveMember', 'EstimatedSalary', 'Exited']\n",
      "10\n"
     ]
    }
   ],
   "source": [
    "obj = []\n",
    "num=[]\n",
    "\n",
    "col= df.columns\n",
    "\n",
    "for i in col:\n",
    "    if df[i].dtype=='object':\n",
    "        obj.append(i)\n",
    "    else:\n",
    "            num.append(i)\n",
    "print('Object Columns\\n')            \n",
    "print(obj) \n",
    "print(len(obj))\n",
    "print('*'*60)\n",
    "print('Int Columns\\n')\n",
    "print(num)\n",
    "print(len(num))"
   ]
  },
  {
   "cell_type": "code",
   "execution_count": 45,
   "id": "d613a9c9",
   "metadata": {},
   "outputs": [],
   "source": [
    "df.drop(columns=['Age','CreditScore'], inplace=True)"
   ]
  },
  {
   "cell_type": "markdown",
   "id": "00de9e46",
   "metadata": {},
   "source": [
    "##### We droped Age and Credit Score we already created a new columns ."
   ]
  },
  {
   "cell_type": "code",
   "execution_count": 96,
   "id": "0962b60d",
   "metadata": {},
   "outputs": [
    {
     "data": {
      "image/png": "[encoded data removed]",
      "text/plain": [
       "<Figure size 640x480 with 2 Axes>"
      ]
     },
     "metadata": {},
     "output_type": "display_data"
    }
   ],
   "source": [
    "sns.heatmap(df.corr(), annot=True, cmap='PiYG')\n",
    "plt.show()"
   ]
  },
  {
   "cell_type": "markdown",
   "id": "f417dc4c",
   "metadata": {},
   "source": [
    "#### We don't have any strong correllated columns each other."
   ]
  },
  {
   "cell_type": "code",
   "execution_count": 47,
   "id": "7779de3b",
   "metadata": {},
   "outputs": [
    {
     "data": {
      "text/html": [
       "<div>\n",
       "<style scoped>\n",
       "    .dataframe tbody tr th:only-of-type {\n",
       "        vertical-align: middle;\n",
       "    }\n",
       "\n",
       "    .dataframe tbody tr th {\n",
       "        vertical-align: top;\n",
       "    }\n",
       "\n",
       "    .dataframe thead th {\n",
       "        text-align: right;\n",
       "    }\n",
       "</style>\n",
       "<table border=\"1\" class=\"dataframe\">\n",
       "  <thead>\n",
       "    <tr style=\"text-align: right;\">\n",
       "      <th></th>\n",
       "      <th>Geography</th>\n",
       "      <th>Gender</th>\n",
       "      <th>Tenure</th>\n",
       "      <th>Balance</th>\n",
       "      <th>NumOfProducts</th>\n",
       "      <th>HasCrCard</th>\n",
       "      <th>IsActiveMember</th>\n",
       "      <th>EstimatedSalary</th>\n",
       "      <th>Exited</th>\n",
       "      <th>CreditScore_cat</th>\n",
       "      <th>Age_cat</th>\n",
       "    </tr>\n",
       "    <tr>\n",
       "      <th>CustomerId</th>\n",
       "      <th></th>\n",
       "      <th></th>\n",
       "      <th></th>\n",
       "      <th></th>\n",
       "      <th></th>\n",
       "      <th></th>\n",
       "      <th></th>\n",
       "      <th></th>\n",
       "      <th></th>\n",
       "      <th></th>\n",
       "      <th></th>\n",
       "    </tr>\n",
       "  </thead>\n",
       "  <tbody>\n",
       "    <tr>\n",
       "      <th>15634602</th>\n",
       "      <td>France</td>\n",
       "      <td>0</td>\n",
       "      <td>2</td>\n",
       "      <td>0.00</td>\n",
       "      <td>1</td>\n",
       "      <td>1</td>\n",
       "      <td>1</td>\n",
       "      <td>101348.88</td>\n",
       "      <td>1</td>\n",
       "      <td>VeryLowCredit</td>\n",
       "      <td>Adult</td>\n",
       "    </tr>\n",
       "    <tr>\n",
       "      <th>15647311</th>\n",
       "      <td>Spain</td>\n",
       "      <td>0</td>\n",
       "      <td>1</td>\n",
       "      <td>83807.86</td>\n",
       "      <td>1</td>\n",
       "      <td>0</td>\n",
       "      <td>1</td>\n",
       "      <td>112542.58</td>\n",
       "      <td>0</td>\n",
       "      <td>VeryLowCredit</td>\n",
       "      <td>Adult</td>\n",
       "    </tr>\n",
       "    <tr>\n",
       "      <th>15619304</th>\n",
       "      <td>France</td>\n",
       "      <td>0</td>\n",
       "      <td>8</td>\n",
       "      <td>159660.80</td>\n",
       "      <td>3</td>\n",
       "      <td>1</td>\n",
       "      <td>0</td>\n",
       "      <td>113931.57</td>\n",
       "      <td>1</td>\n",
       "      <td>VeryLowCredit</td>\n",
       "      <td>Adult</td>\n",
       "    </tr>\n",
       "    <tr>\n",
       "      <th>15701354</th>\n",
       "      <td>France</td>\n",
       "      <td>0</td>\n",
       "      <td>1</td>\n",
       "      <td>0.00</td>\n",
       "      <td>2</td>\n",
       "      <td>0</td>\n",
       "      <td>0</td>\n",
       "      <td>93826.63</td>\n",
       "      <td>0</td>\n",
       "      <td>VeryLowCredit</td>\n",
       "      <td>Adult</td>\n",
       "    </tr>\n",
       "    <tr>\n",
       "      <th>15737888</th>\n",
       "      <td>Spain</td>\n",
       "      <td>0</td>\n",
       "      <td>2</td>\n",
       "      <td>125510.82</td>\n",
       "      <td>1</td>\n",
       "      <td>1</td>\n",
       "      <td>1</td>\n",
       "      <td>79084.10</td>\n",
       "      <td>0</td>\n",
       "      <td>ExcellentCredit</td>\n",
       "      <td>Adult</td>\n",
       "    </tr>\n",
       "  </tbody>\n",
       "</table>\n",
       "</div>"
      ],
      "text/plain": [
       "           Geography  Gender  Tenure    Balance  NumOfProducts  HasCrCard  \\\n",
       "CustomerId                                                                  \n",
       "15634602      France       0       2       0.00              1          1   \n",
       "15647311       Spain       0       1   83807.86              1          0   \n",
       "15619304      France       0       8  159660.80              3          1   \n",
       "15701354      France       0       1       0.00              2          0   \n",
       "15737888       Spain       0       2  125510.82              1          1   \n",
       "\n",
       "            IsActiveMember  EstimatedSalary  Exited  CreditScore_cat Age_cat  \n",
       "CustomerId                                                                    \n",
       "15634602                 1        101348.88       1    VeryLowCredit   Adult  \n",
       "15647311                 1        112542.58       0    VeryLowCredit   Adult  \n",
       "15619304                 0        113931.57       1    VeryLowCredit   Adult  \n",
       "15701354                 0         93826.63       0    VeryLowCredit   Adult  \n",
       "15737888                 1         79084.10       0  ExcellentCredit   Adult  "
      ]
     },
     "execution_count": 47,
     "metadata": {},
     "output_type": "execute_result"
    }
   ],
   "source": [
    "df.head()"
   ]
  },
  {
   "cell_type": "code",
   "execution_count": 48,
   "id": "b1b024f6",
   "metadata": {},
   "outputs": [],
   "source": [
    "churn_data=df.to_csv('churn_data.csv', index=False)"
   ]
  },
  {
   "cell_type": "code",
   "execution_count": 49,
   "id": "7b5f9b11",
   "metadata": {},
   "outputs": [],
   "source": [
    "all_df=pd.get_dummies(df,drop_first=True)"
   ]
  },
  {
   "cell_type": "code",
   "execution_count": 50,
   "id": "d8820505",
   "metadata": {},
   "outputs": [
    {
     "data": {
      "text/plain": [
       "(10000, 17)"
      ]
     },
     "execution_count": 50,
     "metadata": {},
     "output_type": "execute_result"
    }
   ],
   "source": [
    "all_df.shape"
   ]
  },
  {
   "cell_type": "code",
   "execution_count": 51,
   "id": "2ce3c161",
   "metadata": {},
   "outputs": [
    {
     "data": {
      "text/html": [
       "<div>\n",
       "<style scoped>\n",
       "    .dataframe tbody tr th:only-of-type {\n",
       "        vertical-align: middle;\n",
       "    }\n",
       "\n",
       "    .dataframe tbody tr th {\n",
       "        vertical-align: top;\n",
       "    }\n",
       "\n",
       "    .dataframe thead th {\n",
       "        text-align: right;\n",
       "    }\n",
       "</style>\n",
       "<table border=\"1\" class=\"dataframe\">\n",
       "  <thead>\n",
       "    <tr style=\"text-align: right;\">\n",
       "      <th></th>\n",
       "      <th>Gender</th>\n",
       "      <th>Tenure</th>\n",
       "      <th>Balance</th>\n",
       "      <th>NumOfProducts</th>\n",
       "      <th>HasCrCard</th>\n",
       "      <th>IsActiveMember</th>\n",
       "      <th>EstimatedSalary</th>\n",
       "      <th>Exited</th>\n",
       "      <th>Geography_Germany</th>\n",
       "      <th>Geography_Spain</th>\n",
       "      <th>CreditScore_cat_GoodCredit</th>\n",
       "      <th>CreditScore_cat_LowCredit</th>\n",
       "      <th>CreditScore_cat_VeryGoodCredit</th>\n",
       "      <th>CreditScore_cat_VeryLowCredit</th>\n",
       "      <th>Age_cat_AeniorAdult</th>\n",
       "      <th>Age_cat_Seniors_65+</th>\n",
       "      <th>Age_cat_youngAdult</th>\n",
       "    </tr>\n",
       "    <tr>\n",
       "      <th>CustomerId</th>\n",
       "      <th></th>\n",
       "      <th></th>\n",
       "      <th></th>\n",
       "      <th></th>\n",
       "      <th></th>\n",
       "      <th></th>\n",
       "      <th></th>\n",
       "      <th></th>\n",
       "      <th></th>\n",
       "      <th></th>\n",
       "      <th></th>\n",
       "      <th></th>\n",
       "      <th></th>\n",
       "      <th></th>\n",
       "      <th></th>\n",
       "      <th></th>\n",
       "      <th></th>\n",
       "    </tr>\n",
       "  </thead>\n",
       "  <tbody>\n",
       "    <tr>\n",
       "      <th>15634602</th>\n",
       "      <td>0</td>\n",
       "      <td>2</td>\n",
       "      <td>0.00</td>\n",
       "      <td>1</td>\n",
       "      <td>1</td>\n",
       "      <td>1</td>\n",
       "      <td>101348.88</td>\n",
       "      <td>1</td>\n",
       "      <td>0</td>\n",
       "      <td>0</td>\n",
       "      <td>0</td>\n",
       "      <td>0</td>\n",
       "      <td>0</td>\n",
       "      <td>1</td>\n",
       "      <td>0</td>\n",
       "      <td>0</td>\n",
       "      <td>0</td>\n",
       "    </tr>\n",
       "    <tr>\n",
       "      <th>15647311</th>\n",
       "      <td>0</td>\n",
       "      <td>1</td>\n",
       "      <td>83807.86</td>\n",
       "      <td>1</td>\n",
       "      <td>0</td>\n",
       "      <td>1</td>\n",
       "      <td>112542.58</td>\n",
       "      <td>0</td>\n",
       "      <td>0</td>\n",
       "      <td>1</td>\n",
       "      <td>0</td>\n",
       "      <td>0</td>\n",
       "      <td>0</td>\n",
       "      <td>1</td>\n",
       "      <td>0</td>\n",
       "      <td>0</td>\n",
       "      <td>0</td>\n",
       "    </tr>\n",
       "    <tr>\n",
       "      <th>15619304</th>\n",
       "      <td>0</td>\n",
       "      <td>8</td>\n",
       "      <td>159660.80</td>\n",
       "      <td>3</td>\n",
       "      <td>1</td>\n",
       "      <td>0</td>\n",
       "      <td>113931.57</td>\n",
       "      <td>1</td>\n",
       "      <td>0</td>\n",
       "      <td>0</td>\n",
       "      <td>0</td>\n",
       "      <td>0</td>\n",
       "      <td>0</td>\n",
       "      <td>1</td>\n",
       "      <td>0</td>\n",
       "      <td>0</td>\n",
       "      <td>0</td>\n",
       "    </tr>\n",
       "    <tr>\n",
       "      <th>15701354</th>\n",
       "      <td>0</td>\n",
       "      <td>1</td>\n",
       "      <td>0.00</td>\n",
       "      <td>2</td>\n",
       "      <td>0</td>\n",
       "      <td>0</td>\n",
       "      <td>93826.63</td>\n",
       "      <td>0</td>\n",
       "      <td>0</td>\n",
       "      <td>0</td>\n",
       "      <td>0</td>\n",
       "      <td>0</td>\n",
       "      <td>0</td>\n",
       "      <td>1</td>\n",
       "      <td>0</td>\n",
       "      <td>0</td>\n",
       "      <td>0</td>\n",
       "    </tr>\n",
       "    <tr>\n",
       "      <th>15737888</th>\n",
       "      <td>0</td>\n",
       "      <td>2</td>\n",
       "      <td>125510.82</td>\n",
       "      <td>1</td>\n",
       "      <td>1</td>\n",
       "      <td>1</td>\n",
       "      <td>79084.10</td>\n",
       "      <td>0</td>\n",
       "      <td>0</td>\n",
       "      <td>1</td>\n",
       "      <td>0</td>\n",
       "      <td>0</td>\n",
       "      <td>0</td>\n",
       "      <td>0</td>\n",
       "      <td>0</td>\n",
       "      <td>0</td>\n",
       "      <td>0</td>\n",
       "    </tr>\n",
       "  </tbody>\n",
       "</table>\n",
       "</div>"
      ],
      "text/plain": [
       "            Gender  Tenure    Balance  NumOfProducts  HasCrCard  \\\n",
       "CustomerId                                                        \n",
       "15634602         0       2       0.00              1          1   \n",
       "15647311         0       1   83807.86              1          0   \n",
       "15619304         0       8  159660.80              3          1   \n",
       "15701354         0       1       0.00              2          0   \n",
       "15737888         0       2  125510.82              1          1   \n",
       "\n",
       "            IsActiveMember  EstimatedSalary  Exited  Geography_Germany  \\\n",
       "CustomerId                                                               \n",
       "15634602                 1        101348.88       1                  0   \n",
       "15647311                 1        112542.58       0                  0   \n",
       "15619304                 0        113931.57       1                  0   \n",
       "15701354                 0         93826.63       0                  0   \n",
       "15737888                 1         79084.10       0                  0   \n",
       "\n",
       "            Geography_Spain  CreditScore_cat_GoodCredit  \\\n",
       "CustomerId                                                \n",
       "15634602                  0                           0   \n",
       "15647311                  1                           0   \n",
       "15619304                  0                           0   \n",
       "15701354                  0                           0   \n",
       "15737888                  1                           0   \n",
       "\n",
       "            CreditScore_cat_LowCredit  CreditScore_cat_VeryGoodCredit  \\\n",
       "CustomerId                                                              \n",
       "15634602                            0                               0   \n",
       "15647311                            0                               0   \n",
       "15619304                            0                               0   \n",
       "15701354                            0                               0   \n",
       "15737888                            0                               0   \n",
       "\n",
       "            CreditScore_cat_VeryLowCredit  Age_cat_AeniorAdult  \\\n",
       "CustomerId                                                       \n",
       "15634602                                1                    0   \n",
       "15647311                                1                    0   \n",
       "15619304                                1                    0   \n",
       "15701354                                1                    0   \n",
       "15737888                                0                    0   \n",
       "\n",
       "            Age_cat_Seniors_65+  Age_cat_youngAdult  \n",
       "CustomerId                                           \n",
       "15634602                      0                   0  \n",
       "15647311                      0                   0  \n",
       "15619304                      0                   0  \n",
       "15701354                      0                   0  \n",
       "15737888                      0                   0  "
      ]
     },
     "execution_count": 51,
     "metadata": {},
     "output_type": "execute_result"
    }
   ],
   "source": [
    "all_df.head()"
   ]
  },
  {
   "cell_type": "markdown",
   "id": "a9b47dbf",
   "metadata": {},
   "source": [
    "### Our dependent variable is Exited "
   ]
  },
  {
   "cell_type": "code",
   "execution_count": 52,
   "id": "76812057",
   "metadata": {},
   "outputs": [],
   "source": [
    "y= all_df[\"Exited\"]\n",
    "x=all_df.drop(columns=[\"Exited\"])"
   ]
  },
  {
   "cell_type": "markdown",
   "id": "2b36a1b1",
   "metadata": {},
   "source": [
    "### Importing important Library for model selection."
   ]
  },
  {
   "cell_type": "code",
   "execution_count": 53,
   "id": "d1065c49",
   "metadata": {},
   "outputs": [],
   "source": [
    "from sklearn.ensemble import BaggingClassifier, RandomForestClassifier, AdaBoostClassifier\n",
    "from sklearn.tree import DecisionTreeClassifier\n",
    "from xgboost import XGBClassifier\n",
    "from sklearn.model_selection import train_test_split, GridSearchCV, RandomizedSearchCV\n",
    "from sklearn import metrics\n",
    "from sklearn.metrics import confusion_matrix, classification_report, recall_score, precision_score, precision_recall_curve\n"
   ]
  },
  {
   "cell_type": "code",
   "execution_count": 54,
   "id": "8a07b0c2",
   "metadata": {},
   "outputs": [],
   "source": [
    "x_train, x_test, y_train, y_test=train_test_split(x, y, test_size=.3, random_state=88)"
   ]
  },
  {
   "cell_type": "code",
   "execution_count": 55,
   "id": "2b300680",
   "metadata": {},
   "outputs": [],
   "source": [
    "dt = DecisionTreeClassifier()"
   ]
  },
  {
   "cell_type": "code",
   "execution_count": 56,
   "id": "72e775e0",
   "metadata": {},
   "outputs": [
    {
     "name": "stdout",
     "output_type": "stream",
     "text": [
      "Train score 1.0\n",
      "Test score 0.7763333333333333\n"
     ]
    }
   ],
   "source": [
    "dt.fit(x_train,y_train)\n",
    "print(\"Train score\", dt.score(x_train, y_train))\n",
    "print(\"Test score\", dt.score(x_test, y_test))"
   ]
  },
  {
   "cell_type": "markdown",
   "id": "a2fa5919",
   "metadata": {},
   "source": [
    "### We should apply GridSearchCv for best result"
   ]
  },
  {
   "cell_type": "code",
   "execution_count": 57,
   "id": "5834b336",
   "metadata": {},
   "outputs": [],
   "source": [
    "params={\"max_depth\":[7,9,11], \n",
    "       \"min_samples_leaf\":[10,20,30,50,100],\n",
    "       \"min_samples_split\":[5,10,20,30],\n",
    "       \"criterion\":[\"gini\", \"entropy\"]}"
   ]
  },
  {
   "cell_type": "code",
   "execution_count": 58,
   "id": "d598c497",
   "metadata": {},
   "outputs": [
    {
     "name": "stdout",
     "output_type": "stream",
     "text": [
      "Fitting 5 folds for each of 120 candidates, totalling 600 fits\n"
     ]
    },
    {
     "data": {
      "text/plain": [
       "GridSearchCV(cv=5, estimator=DecisionTreeClassifier(random_state=0), n_jobs=-1,\n",
       "             param_grid={'criterion': ['gini', 'entropy'],\n",
       "                         'max_depth': [7, 9, 11],\n",
       "                         'min_samples_leaf': [10, 20, 30, 50, 100],\n",
       "                         'min_samples_split': [5, 10, 20, 30]},\n",
       "             verbose=2)"
      ]
     },
     "execution_count": 58,
     "metadata": {},
     "output_type": "execute_result"
    }
   ],
   "source": [
    "dt0=DecisionTreeClassifier(random_state=0)\n",
    "gsearch_tr=GridSearchCV(dt0, param_grid=params, cv=5, n_jobs=-1, verbose=2)\n",
    "gsearch_tr.fit(x_train, y_train)"
   ]
  },
  {
   "cell_type": "code",
   "execution_count": 59,
   "id": "c1f14951",
   "metadata": {},
   "outputs": [
    {
     "data": {
      "text/plain": [
       "{'criterion': 'gini',\n",
       " 'max_depth': 9,\n",
       " 'min_samples_leaf': 100,\n",
       " 'min_samples_split': 5}"
      ]
     },
     "execution_count": 59,
     "metadata": {},
     "output_type": "execute_result"
    }
   ],
   "source": [
    "gsearch_tr.best_params_"
   ]
  },
  {
   "cell_type": "code",
   "execution_count": 60,
   "id": "a94f65ec",
   "metadata": {},
   "outputs": [
    {
     "data": {
      "text/plain": [
       "0.8497142857142856"
      ]
     },
     "execution_count": 60,
     "metadata": {},
     "output_type": "execute_result"
    }
   ],
   "source": [
    "gsearch_tr.best_score_"
   ]
  },
  {
   "cell_type": "code",
   "execution_count": 61,
   "id": "f01e4bf5",
   "metadata": {},
   "outputs": [
    {
     "data": {
      "text/plain": [
       "DecisionTreeClassifier(max_depth=9, min_samples_leaf=100, min_samples_split=5,\n",
       "                       random_state=0)"
      ]
     },
     "execution_count": 61,
     "metadata": {},
     "output_type": "execute_result"
    }
   ],
   "source": [
    "gsearch_tr.best_estimator_"
   ]
  },
  {
   "cell_type": "code",
   "execution_count": 62,
   "id": "b889d299",
   "metadata": {},
   "outputs": [
    {
     "data": {
      "text/plain": [
       "array([0, 1], dtype=int64)"
      ]
     },
     "execution_count": 62,
     "metadata": {},
     "output_type": "execute_result"
    }
   ],
   "source": [
    "gsearch_tr.classes_"
   ]
  },
  {
   "cell_type": "markdown",
   "id": "bb2981bb",
   "metadata": {},
   "source": [
    "#### Now we can apply best params in our new model\n",
    "## Decision Tree"
   ]
  },
  {
   "cell_type": "code",
   "execution_count": 63,
   "id": "b9334384",
   "metadata": {},
   "outputs": [
    {
     "data": {
      "text/plain": [
       "DecisionTreeClassifier(max_depth=9, min_samples_leaf=100, min_samples_split=5,\n",
       "                       random_state=88)"
      ]
     },
     "execution_count": 63,
     "metadata": {},
     "output_type": "execute_result"
    }
   ],
   "source": [
    "dt1=DecisionTreeClassifier(criterion='gini', max_depth=9, min_samples_leaf=100,\n",
    "                       min_samples_split=5, random_state=88)\n",
    "dt1.fit(x_train, y_train)"
   ]
  },
  {
   "cell_type": "code",
   "execution_count": 64,
   "id": "57f26a08",
   "metadata": {},
   "outputs": [
    {
     "name": "stdout",
     "output_type": "stream",
     "text": [
      "Train score 0.8517142857142858\n",
      "Test score 0.844\n"
     ]
    }
   ],
   "source": [
    "print(\"Train score\", dt1.score(x_train, y_train))\n",
    "print(\"Test score\", dt1.score(x_test, y_test))"
   ]
  },
  {
   "cell_type": "code",
   "execution_count": 65,
   "id": "dafe2b61",
   "metadata": {},
   "outputs": [
    {
     "data": {
      "text/plain": [
       "BaggingClassifier(base_estimator=DecisionTreeClassifier(max_depth=9,\n",
       "                                                        min_samples_leaf=100,\n",
       "                                                        min_samples_split=5,\n",
       "                                                        random_state=88),\n",
       "                  n_estimators=300)"
      ]
     },
     "execution_count": 65,
     "metadata": {},
     "output_type": "execute_result"
    }
   ],
   "source": [
    "bg=BaggingClassifier(base_estimator=dt1, n_estimators=300 )\n",
    "bg.fit(x_train, y_train)"
   ]
  },
  {
   "cell_type": "code",
   "execution_count": 66,
   "id": "9cb8704d",
   "metadata": {},
   "outputs": [
    {
     "name": "stdout",
     "output_type": "stream",
     "text": [
      "Train score 0.8517142857142858\n",
      "Test score 0.846\n"
     ]
    }
   ],
   "source": [
    "print(\"Train score\", bg.score(x_train, y_train))\n",
    "print(\"Test score\", bg.score(x_test, y_test))"
   ]
  },
  {
   "cell_type": "markdown",
   "id": "e25e6fbf",
   "metadata": {},
   "source": [
    "#### We can predict now."
   ]
  },
  {
   "cell_type": "code",
   "execution_count": 67,
   "id": "ea52632f",
   "metadata": {},
   "outputs": [],
   "source": [
    "pred_train=dt1.predict(x_train)\n",
    "pred_test=dt1.predict(x_test)"
   ]
  },
  {
   "cell_type": "markdown",
   "id": "c91bd2ad",
   "metadata": {},
   "source": [
    "#### We can create confusion matrix for better understanding."
   ]
  },
  {
   "cell_type": "code",
   "execution_count": 68,
   "id": "008ea50f",
   "metadata": {},
   "outputs": [
    {
     "data": {
      "text/html": [
       "<div>\n",
       "<style scoped>\n",
       "    .dataframe tbody tr th:only-of-type {\n",
       "        vertical-align: middle;\n",
       "    }\n",
       "\n",
       "    .dataframe tbody tr th {\n",
       "        vertical-align: top;\n",
       "    }\n",
       "\n",
       "    .dataframe thead th {\n",
       "        text-align: right;\n",
       "    }\n",
       "</style>\n",
       "<table border=\"1\" class=\"dataframe\">\n",
       "  <thead>\n",
       "    <tr style=\"text-align: right;\">\n",
       "      <th></th>\n",
       "      <th>Pred_NoExisted0</th>\n",
       "      <th>Pred_Exited1</th>\n",
       "    </tr>\n",
       "  </thead>\n",
       "  <tbody>\n",
       "    <tr>\n",
       "      <th>Act_NoExited0</th>\n",
       "      <td>5423</td>\n",
       "      <td>136</td>\n",
       "    </tr>\n",
       "    <tr>\n",
       "      <th>Act_Exited1</th>\n",
       "      <td>902</td>\n",
       "      <td>539</td>\n",
       "    </tr>\n",
       "  </tbody>\n",
       "</table>\n",
       "</div>"
      ],
      "text/plain": [
       "               Pred_NoExisted0  Pred_Exited1\n",
       "Act_NoExited0             5423           136\n",
       "Act_Exited1                902           539"
      ]
     },
     "execution_count": 68,
     "metadata": {},
     "output_type": "execute_result"
    }
   ],
   "source": [
    "cm=pd.DataFrame(confusion_matrix(y_train, pred_train),columns=[\"Pred_NoExisted0\", \"Pred_Exited1\"], index=[\"Act_NoExited0\", \"Act_Exited1\"])\n",
    "cm"
   ]
  },
  {
   "cell_type": "code",
   "execution_count": 69,
   "id": "a29819ff",
   "metadata": {},
   "outputs": [
    {
     "name": "stdout",
     "output_type": "stream",
     "text": [
      "              precision    recall  f1-score   support\n",
      "\n",
      "           0       0.86      0.98      0.91      5559\n",
      "           1       0.80      0.37      0.51      1441\n",
      "\n",
      "    accuracy                           0.85      7000\n",
      "   macro avg       0.83      0.67      0.71      7000\n",
      "weighted avg       0.85      0.85      0.83      7000\n",
      "\n"
     ]
    }
   ],
   "source": [
    "print(classification_report(y_train, pred_train))"
   ]
  },
  {
   "cell_type": "markdown",
   "id": "a5f1db12",
   "metadata": {},
   "source": [
    "## RandomForest Classifier"
   ]
  },
  {
   "cell_type": "code",
   "execution_count": 70,
   "id": "c3d2c79a",
   "metadata": {},
   "outputs": [],
   "source": [
    "params={\"n_estimators\":[100,200,300],\n",
    "       \"criterion\":[\"gini\", \"entropy\"],\n",
    "       \"min_samples_split\":[10,20,50],\n",
    "       \"min_samples_leaf\":[5,10,30],\n",
    "        \"max_features\":[\"sqrt\", \"log2\"]\n",
    "       }"
   ]
  },
  {
   "cell_type": "code",
   "execution_count": 71,
   "id": "a7d4bfd6",
   "metadata": {},
   "outputs": [],
   "source": [
    "rf=RandomForestClassifier(random_state=0)"
   ]
  },
  {
   "cell_type": "code",
   "execution_count": 72,
   "id": "ea741ad0",
   "metadata": {},
   "outputs": [
    {
     "name": "stdout",
     "output_type": "stream",
     "text": [
      "Fitting 5 folds for each of 108 candidates, totalling 540 fits\n"
     ]
    },
    {
     "data": {
      "text/plain": [
       "GridSearchCV(cv=5, estimator=RandomForestClassifier(random_state=0), n_jobs=-1,\n",
       "             param_grid={'criterion': ['gini', 'entropy'],\n",
       "                         'max_features': ['sqrt', 'log2'],\n",
       "                         'min_samples_leaf': [5, 10, 30],\n",
       "                         'min_samples_split': [10, 20, 50],\n",
       "                         'n_estimators': [100, 200, 300]},\n",
       "             verbose=2)"
      ]
     },
     "execution_count": 72,
     "metadata": {},
     "output_type": "execute_result"
    }
   ],
   "source": [
    "gsearch_rf=GridSearchCV(rf, param_grid=params, cv=5, n_jobs=-1, verbose=2)\n",
    "gsearch_rf.fit(x_train, y_train)"
   ]
  },
  {
   "cell_type": "code",
   "execution_count": 73,
   "id": "7583ea15",
   "metadata": {},
   "outputs": [
    {
     "data": {
      "text/plain": [
       "{'criterion': 'entropy',\n",
       " 'max_features': 'sqrt',\n",
       " 'min_samples_leaf': 5,\n",
       " 'min_samples_split': 20,\n",
       " 'n_estimators': 200}"
      ]
     },
     "execution_count": 73,
     "metadata": {},
     "output_type": "execute_result"
    }
   ],
   "source": [
    "gsearch_rf.best_params_"
   ]
  },
  {
   "cell_type": "code",
   "execution_count": 74,
   "id": "68ff02c5",
   "metadata": {},
   "outputs": [
    {
     "data": {
      "text/plain": [
       "0.8482857142857144"
      ]
     },
     "execution_count": 74,
     "metadata": {},
     "output_type": "execute_result"
    }
   ],
   "source": [
    "gsearch_rf.best_score_"
   ]
  },
  {
   "cell_type": "code",
   "execution_count": 75,
   "id": "c79afd0f",
   "metadata": {},
   "outputs": [
    {
     "data": {
      "text/plain": [
       "RandomForestClassifier(criterion='entropy', max_features='sqrt',\n",
       "                       min_samples_leaf=5, min_samples_split=20,\n",
       "                       n_estimators=200, random_state=0)"
      ]
     },
     "execution_count": 75,
     "metadata": {},
     "output_type": "execute_result"
    }
   ],
   "source": [
    "rf1=RandomForestClassifier(n_estimators=200,criterion=\"entropy\",max_features=\"sqrt\", min_samples_leaf=5, min_samples_split=20, random_state=0)\n",
    "rf1.fit(x_train, y_train)"
   ]
  },
  {
   "cell_type": "code",
   "execution_count": 76,
   "id": "46e1b93c",
   "metadata": {},
   "outputs": [
    {
     "name": "stdout",
     "output_type": "stream",
     "text": [
      "Train score 0.8697142857142857\n",
      "Test score 0.847\n"
     ]
    }
   ],
   "source": [
    "print(\"Train score\", rf1.score(x_train, y_train))\n",
    "print(\"Test score\", rf1.score(x_test, y_test))"
   ]
  },
  {
   "cell_type": "code",
   "execution_count": 77,
   "id": "cc2d9ebe",
   "metadata": {},
   "outputs": [],
   "source": [
    "pred_train_rf=rf1.predict(x_train)\n",
    "pred_test_rf=rf1.predict(x_test)"
   ]
  },
  {
   "cell_type": "code",
   "execution_count": 78,
   "id": "be33a731",
   "metadata": {},
   "outputs": [
    {
     "data": {
      "text/html": [
       "<div>\n",
       "<style scoped>\n",
       "    .dataframe tbody tr th:only-of-type {\n",
       "        vertical-align: middle;\n",
       "    }\n",
       "\n",
       "    .dataframe tbody tr th {\n",
       "        vertical-align: top;\n",
       "    }\n",
       "\n",
       "    .dataframe thead th {\n",
       "        text-align: right;\n",
       "    }\n",
       "</style>\n",
       "<table border=\"1\" class=\"dataframe\">\n",
       "  <thead>\n",
       "    <tr style=\"text-align: right;\">\n",
       "      <th></th>\n",
       "      <th>Pred_NoExisted0</th>\n",
       "      <th>Pred_Exited1</th>\n",
       "    </tr>\n",
       "  </thead>\n",
       "  <tbody>\n",
       "    <tr>\n",
       "      <th>Act_NoExited0</th>\n",
       "      <td>5469</td>\n",
       "      <td>90</td>\n",
       "    </tr>\n",
       "    <tr>\n",
       "      <th>Act_Exited1</th>\n",
       "      <td>822</td>\n",
       "      <td>619</td>\n",
       "    </tr>\n",
       "  </tbody>\n",
       "</table>\n",
       "</div>"
      ],
      "text/plain": [
       "               Pred_NoExisted0  Pred_Exited1\n",
       "Act_NoExited0             5469            90\n",
       "Act_Exited1                822           619"
      ]
     },
     "execution_count": 78,
     "metadata": {},
     "output_type": "execute_result"
    }
   ],
   "source": [
    "cm1=pd.DataFrame(confusion_matrix(y_train, pred_train_rf),columns=[\"Pred_NoExisted0\", \"Pred_Exited1\"], index=[\"Act_NoExited0\", \"Act_Exited1\"])\n",
    "cm1"
   ]
  },
  {
   "cell_type": "code",
   "execution_count": 79,
   "id": "4e81994c",
   "metadata": {},
   "outputs": [
    {
     "name": "stdout",
     "output_type": "stream",
     "text": [
      "              precision    recall  f1-score   support\n",
      "\n",
      "           0       0.87      0.98      0.92      5559\n",
      "           1       0.87      0.43      0.58      1441\n",
      "\n",
      "    accuracy                           0.87      7000\n",
      "   macro avg       0.87      0.71      0.75      7000\n",
      "weighted avg       0.87      0.87      0.85      7000\n",
      "\n"
     ]
    }
   ],
   "source": [
    "print(classification_report(y_train, pred_train_rf))"
   ]
  },
  {
   "cell_type": "markdown",
   "id": "c5180274",
   "metadata": {},
   "source": [
    "### Adaboost Classifier"
   ]
  },
  {
   "cell_type": "code",
   "execution_count": 80,
   "id": "be745ace",
   "metadata": {},
   "outputs": [
    {
     "data": {
      "text/plain": [
       "AdaBoostClassifier(base_estimator=RandomForestClassifier(criterion='entropy',\n",
       "                                                         max_features='sqrt',\n",
       "                                                         min_samples_leaf=5,\n",
       "                                                         min_samples_split=20,\n",
       "                                                         n_estimators=200,\n",
       "                                                         random_state=0),\n",
       "                   learning_rate=0.01, n_estimators=100)"
      ]
     },
     "execution_count": 80,
     "metadata": {},
     "output_type": "execute_result"
    }
   ],
   "source": [
    "ad=AdaBoostClassifier(base_estimator=rf1,n_estimators=100,learning_rate=.01,)\n",
    "ad.fit(x_train, y_train)\n"
   ]
  },
  {
   "cell_type": "code",
   "execution_count": 81,
   "id": "753adfa5",
   "metadata": {},
   "outputs": [
    {
     "name": "stdout",
     "output_type": "stream",
     "text": [
      "Train score 0.8807142857142857\n",
      "Test score 0.849\n"
     ]
    }
   ],
   "source": [
    "print(\"Train score\", ad.score(x_train, y_train))\n",
    "print(\"Test score\", ad.score(x_test, y_test))"
   ]
  },
  {
   "cell_type": "markdown",
   "id": "70211477",
   "metadata": {},
   "source": [
    "## XGBoost Classifier"
   ]
  },
  {
   "cell_type": "code",
   "execution_count": 82,
   "id": "9aea49c1",
   "metadata": {},
   "outputs": [
    {
     "data": {
      "text/plain": [
       "XGBClassifier(base_score=None, booster=None, callbacks=None,\n",
       "              colsample_bylevel=None, colsample_bynode=None,\n",
       "              colsample_bytree=None, early_stopping_rounds=None,\n",
       "              enable_categorical=False, eval_metric=None, feature_types=None,\n",
       "              gamma=None, gpu_id=None, grow_policy=None, importance_type=None,\n",
       "              interaction_constraints=None, learning_rate=None, max_bin=None,\n",
       "              max_cat_threshold=None, max_cat_to_onehot=None,\n",
       "              max_delta_step=None, max_depth=None, max_leaves=None,\n",
       "              min_child_weight=None, missing=nan, monotone_constraints=None,\n",
       "              n_estimators=100, n_jobs=None, num_parallel_tree=None,\n",
       "              predictor=None, random_state=None, ...)"
      ]
     },
     "execution_count": 82,
     "metadata": {},
     "output_type": "execute_result"
    }
   ],
   "source": [
    "xg=XGBClassifier()\n",
    "xg.fit(x_train, y_train)"
   ]
  },
  {
   "cell_type": "code",
   "execution_count": 83,
   "id": "03d49763",
   "metadata": {},
   "outputs": [],
   "source": [
    "params={\"n_estimators\":[100, 200],\n",
    "       \"max_depth\":[7,9,11]}"
   ]
  },
  {
   "cell_type": "code",
   "execution_count": 84,
   "id": "ebbbb809",
   "metadata": {},
   "outputs": [
    {
     "name": "stdout",
     "output_type": "stream",
     "text": [
      "Fitting 5 folds for each of 6 candidates, totalling 30 fits\n"
     ]
    },
    {
     "data": {
      "text/plain": [
       "GridSearchCV(cv=5,\n",
       "             estimator=XGBClassifier(base_score=None, booster=None,\n",
       "                                     callbacks=None, colsample_bylevel=None,\n",
       "                                     colsample_bynode=None,\n",
       "                                     colsample_bytree=None,\n",
       "                                     early_stopping_rounds=None,\n",
       "                                     enable_categorical=False, eval_metric=None,\n",
       "                                     feature_types=None, gamma=None,\n",
       "                                     gpu_id=None, grow_policy=None,\n",
       "                                     importance_type=None,\n",
       "                                     interaction_constraints=None,\n",
       "                                     learning_rate=None, max_bin=None,\n",
       "                                     max_cat_threshold=None,\n",
       "                                     max_cat_to_onehot=None,\n",
       "                                     max_delta_step=None, max_depth=None,\n",
       "                                     max_leaves=None, min_child_weight=None,\n",
       "                                     missing=nan, monotone_constraints=None,\n",
       "                                     n_estimators=100, n_jobs=None,\n",
       "                                     num_parallel_tree=None, predictor=None,\n",
       "                                     random_state=0, ...),\n",
       "             n_jobs=-1,\n",
       "             param_grid={'max_depth': [7, 9, 11], 'n_estimators': [100, 200]},\n",
       "             verbose=2)"
      ]
     },
     "execution_count": 84,
     "metadata": {},
     "output_type": "execute_result"
    }
   ],
   "source": [
    "xg1=XGBClassifier(random_state=0)\n",
    "gsearch_xg=GridSearchCV(xg1, param_grid=params, cv=5, n_jobs=-1,verbose=2)\n",
    "gsearch_xg.fit(x_train, y_train)"
   ]
  },
  {
   "cell_type": "code",
   "execution_count": 85,
   "id": "56144933",
   "metadata": {},
   "outputs": [
    {
     "data": {
      "text/plain": [
       "{'max_depth': 7, 'n_estimators': 100}"
      ]
     },
     "execution_count": 85,
     "metadata": {},
     "output_type": "execute_result"
    }
   ],
   "source": [
    "gsearch_xg.best_params_"
   ]
  },
  {
   "cell_type": "code",
   "execution_count": 86,
   "id": "6c1af362",
   "metadata": {},
   "outputs": [
    {
     "data": {
      "text/plain": [
       "XGBClassifier(base_score=None, booster=None, callbacks=None,\n",
       "              colsample_bylevel=None, colsample_bynode=None,\n",
       "              colsample_bytree=None, early_stopping_rounds=None,\n",
       "              enable_categorical=False, eval_metric=None, feature_types=None,\n",
       "              gamma=None, gpu_id=None, grow_policy=None, importance_type=None,\n",
       "              interaction_constraints=None, learning_rate=None, max_bin=None,\n",
       "              max_cat_threshold=None, max_cat_to_onehot=None,\n",
       "              max_delta_step=None, max_depth=7, max_leaves=None,\n",
       "              min_child_weight=None, missing=nan, monotone_constraints=None,\n",
       "              n_estimators=100, n_jobs=None, num_parallel_tree=None,\n",
       "              predictor=None, random_state=None, ...)"
      ]
     },
     "execution_count": 86,
     "metadata": {},
     "output_type": "execute_result"
    }
   ],
   "source": [
    "xg1=XGBClassifier(n_estimators=100, max_depth=7)\n",
    "xg1.fit(x_train, y_train)"
   ]
  },
  {
   "cell_type": "code",
   "execution_count": 87,
   "id": "a127e809",
   "metadata": {},
   "outputs": [
    {
     "name": "stdout",
     "output_type": "stream",
     "text": [
      "Train score 0.9584285714285714\n",
      "Test score 0.836\n"
     ]
    }
   ],
   "source": [
    "print(\"Train score\", xg1.score(x_train, y_train))\n",
    "print(\"Test score\", xg1.score(x_test, y_test))"
   ]
  },
  {
   "cell_type": "markdown",
   "id": "26c7c332",
   "metadata": {},
   "source": [
    "## We can collect the all models performance"
   ]
  },
  {
   "cell_type": "code",
   "execution_count": 88,
   "id": "0b6a3827",
   "metadata": {},
   "outputs": [],
   "source": [
    "def eval(model, xtrain, ytrain, xtest, ytest):\n",
    "    acc=model.score(xtrain, ytrain)\n",
    "    pred_train=model.predict(xtrain)\n",
    "    rec=recall_score(ytrain, pred_train)\n",
    "    prec=precision_score(ytrain, pred_train)\n",
    "    \n",
    "    acctest=model.score(xtest, ytest)\n",
    "    pred_test=model.predict(xtest)\n",
    "    rec_test=recall_score(ytest, pred_test)\n",
    "    prec_test=precision_score(ytest, pred_test)\n",
    "    final={\"train_accuracy\":acc, \"test_accuracy\":acctest, \"train_recall\":rec,\"test_recal\":rec_test,\n",
    "           \"train_precision\":prec,\"test_precision\":prec_test\n",
    "          }\n",
    "    return final"
   ]
  },
  {
   "cell_type": "code",
   "execution_count": 89,
   "id": "bd1f9de0",
   "metadata": {},
   "outputs": [
    {
     "data": {
      "text/html": [
       "<div>\n",
       "<style scoped>\n",
       "    .dataframe tbody tr th:only-of-type {\n",
       "        vertical-align: middle;\n",
       "    }\n",
       "\n",
       "    .dataframe tbody tr th {\n",
       "        vertical-align: top;\n",
       "    }\n",
       "\n",
       "    .dataframe thead th {\n",
       "        text-align: right;\n",
       "    }\n",
       "</style>\n",
       "<table border=\"1\" class=\"dataframe\">\n",
       "  <thead>\n",
       "    <tr style=\"text-align: right;\">\n",
       "      <th></th>\n",
       "      <th>train_accuracy</th>\n",
       "      <th>test_accuracy</th>\n",
       "      <th>train_recall</th>\n",
       "      <th>test_recal</th>\n",
       "      <th>train_precision</th>\n",
       "      <th>test_precision</th>\n",
       "    </tr>\n",
       "  </thead>\n",
       "  <tbody>\n",
       "    <tr>\n",
       "      <th>DecisionTree_hyp</th>\n",
       "      <td>0.851714</td>\n",
       "      <td>0.844</td>\n",
       "      <td>0.374046</td>\n",
       "      <td>0.348993</td>\n",
       "      <td>0.798519</td>\n",
       "      <td>0.722222</td>\n",
       "    </tr>\n",
       "  </tbody>\n",
       "</table>\n",
       "</div>"
      ],
      "text/plain": [
       "                  train_accuracy  test_accuracy  train_recall  test_recal  \\\n",
       "DecisionTree_hyp        0.851714          0.844      0.374046    0.348993   \n",
       "\n",
       "                  train_precision  test_precision  \n",
       "DecisionTree_hyp         0.798519        0.722222  "
      ]
     },
     "execution_count": 89,
     "metadata": {},
     "output_type": "execute_result"
    }
   ],
   "source": [
    "dt_result=pd.DataFrame(eval(dt1, x_train, y_train, x_test, y_test), index=[\"DecisionTree_hyp\"])\n",
    "dt_result"
   ]
  },
  {
   "cell_type": "code",
   "execution_count": 90,
   "id": "22080f2f",
   "metadata": {},
   "outputs": [
    {
     "data": {
      "text/html": [
       "<div>\n",
       "<style scoped>\n",
       "    .dataframe tbody tr th:only-of-type {\n",
       "        vertical-align: middle;\n",
       "    }\n",
       "\n",
       "    .dataframe tbody tr th {\n",
       "        vertical-align: top;\n",
       "    }\n",
       "\n",
       "    .dataframe thead th {\n",
       "        text-align: right;\n",
       "    }\n",
       "</style>\n",
       "<table border=\"1\" class=\"dataframe\">\n",
       "  <thead>\n",
       "    <tr style=\"text-align: right;\">\n",
       "      <th></th>\n",
       "      <th>train_accuracy</th>\n",
       "      <th>test_accuracy</th>\n",
       "      <th>train_recall</th>\n",
       "      <th>test_recal</th>\n",
       "      <th>train_precision</th>\n",
       "      <th>test_precision</th>\n",
       "    </tr>\n",
       "  </thead>\n",
       "  <tbody>\n",
       "    <tr>\n",
       "      <th>Bagging</th>\n",
       "      <td>0.851714</td>\n",
       "      <td>0.846</td>\n",
       "      <td>0.37127</td>\n",
       "      <td>0.347315</td>\n",
       "      <td>0.802099</td>\n",
       "      <td>0.739286</td>\n",
       "    </tr>\n",
       "  </tbody>\n",
       "</table>\n",
       "</div>"
      ],
      "text/plain": [
       "         train_accuracy  test_accuracy  train_recall  test_recal  \\\n",
       "Bagging        0.851714          0.846       0.37127    0.347315   \n",
       "\n",
       "         train_precision  test_precision  \n",
       "Bagging         0.802099        0.739286  "
      ]
     },
     "execution_count": 90,
     "metadata": {},
     "output_type": "execute_result"
    }
   ],
   "source": [
    "bg_result=pd.DataFrame(eval(bg, x_train, y_train, x_test, y_test), index=[\"Bagging\"])\n",
    "bg_result"
   ]
  },
  {
   "cell_type": "code",
   "execution_count": 91,
   "id": "5eb3523f",
   "metadata": {},
   "outputs": [
    {
     "data": {
      "text/html": [
       "<div>\n",
       "<style scoped>\n",
       "    .dataframe tbody tr th:only-of-type {\n",
       "        vertical-align: middle;\n",
       "    }\n",
       "\n",
       "    .dataframe tbody tr th {\n",
       "        vertical-align: top;\n",
       "    }\n",
       "\n",
       "    .dataframe thead th {\n",
       "        text-align: right;\n",
       "    }\n",
       "</style>\n",
       "<table border=\"1\" class=\"dataframe\">\n",
       "  <thead>\n",
       "    <tr style=\"text-align: right;\">\n",
       "      <th></th>\n",
       "      <th>train_accuracy</th>\n",
       "      <th>test_accuracy</th>\n",
       "      <th>train_recall</th>\n",
       "      <th>test_recal</th>\n",
       "      <th>train_precision</th>\n",
       "      <th>test_precision</th>\n",
       "    </tr>\n",
       "  </thead>\n",
       "  <tbody>\n",
       "    <tr>\n",
       "      <th>RndomForest</th>\n",
       "      <td>0.869714</td>\n",
       "      <td>0.847</td>\n",
       "      <td>0.429563</td>\n",
       "      <td>0.352349</td>\n",
       "      <td>0.873061</td>\n",
       "      <td>0.742049</td>\n",
       "    </tr>\n",
       "  </tbody>\n",
       "</table>\n",
       "</div>"
      ],
      "text/plain": [
       "             train_accuracy  test_accuracy  train_recall  test_recal  \\\n",
       "RndomForest        0.869714          0.847      0.429563    0.352349   \n",
       "\n",
       "             train_precision  test_precision  \n",
       "RndomForest         0.873061        0.742049  "
      ]
     },
     "execution_count": 91,
     "metadata": {},
     "output_type": "execute_result"
    }
   ],
   "source": [
    "rf_result=pd.DataFrame(eval(rf1, x_train, y_train, x_test, y_test), index=[\"RndomForest\"])\n",
    "rf_result"
   ]
  },
  {
   "cell_type": "code",
   "execution_count": 92,
   "id": "90fd1cfb",
   "metadata": {},
   "outputs": [
    {
     "data": {
      "text/html": [
       "<div>\n",
       "<style scoped>\n",
       "    .dataframe tbody tr th:only-of-type {\n",
       "        vertical-align: middle;\n",
       "    }\n",
       "\n",
       "    .dataframe tbody tr th {\n",
       "        vertical-align: top;\n",
       "    }\n",
       "\n",
       "    .dataframe thead th {\n",
       "        text-align: right;\n",
       "    }\n",
       "</style>\n",
       "<table border=\"1\" class=\"dataframe\">\n",
       "  <thead>\n",
       "    <tr style=\"text-align: right;\">\n",
       "      <th></th>\n",
       "      <th>train_accuracy</th>\n",
       "      <th>test_accuracy</th>\n",
       "      <th>train_recall</th>\n",
       "      <th>test_recal</th>\n",
       "      <th>train_precision</th>\n",
       "      <th>test_precision</th>\n",
       "    </tr>\n",
       "  </thead>\n",
       "  <tbody>\n",
       "    <tr>\n",
       "      <th>Adaboost</th>\n",
       "      <td>0.880714</td>\n",
       "      <td>0.849</td>\n",
       "      <td>0.477446</td>\n",
       "      <td>0.36745</td>\n",
       "      <td>0.893506</td>\n",
       "      <td>0.742373</td>\n",
       "    </tr>\n",
       "  </tbody>\n",
       "</table>\n",
       "</div>"
      ],
      "text/plain": [
       "          train_accuracy  test_accuracy  train_recall  test_recal  \\\n",
       "Adaboost        0.880714          0.849      0.477446     0.36745   \n",
       "\n",
       "          train_precision  test_precision  \n",
       "Adaboost         0.893506        0.742373  "
      ]
     },
     "execution_count": 92,
     "metadata": {},
     "output_type": "execute_result"
    }
   ],
   "source": [
    "ad_result=pd.DataFrame(eval(ad, x_train, y_train, x_test, y_test), index=[\"Adaboost\"])\n",
    "ad_result"
   ]
  },
  {
   "cell_type": "code",
   "execution_count": 93,
   "id": "00374c91",
   "metadata": {},
   "outputs": [
    {
     "data": {
      "text/html": [
       "<div>\n",
       "<style scoped>\n",
       "    .dataframe tbody tr th:only-of-type {\n",
       "        vertical-align: middle;\n",
       "    }\n",
       "\n",
       "    .dataframe tbody tr th {\n",
       "        vertical-align: top;\n",
       "    }\n",
       "\n",
       "    .dataframe thead th {\n",
       "        text-align: right;\n",
       "    }\n",
       "</style>\n",
       "<table border=\"1\" class=\"dataframe\">\n",
       "  <thead>\n",
       "    <tr style=\"text-align: right;\">\n",
       "      <th></th>\n",
       "      <th>train_accuracy</th>\n",
       "      <th>test_accuracy</th>\n",
       "      <th>train_recall</th>\n",
       "      <th>test_recal</th>\n",
       "      <th>train_precision</th>\n",
       "      <th>test_precision</th>\n",
       "    </tr>\n",
       "  </thead>\n",
       "  <tbody>\n",
       "    <tr>\n",
       "      <th>XGboost_hyp</th>\n",
       "      <td>0.958429</td>\n",
       "      <td>0.836</td>\n",
       "      <td>0.814018</td>\n",
       "      <td>0.442953</td>\n",
       "      <td>0.980769</td>\n",
       "      <td>0.622642</td>\n",
       "    </tr>\n",
       "  </tbody>\n",
       "</table>\n",
       "</div>"
      ],
      "text/plain": [
       "             train_accuracy  test_accuracy  train_recall  test_recal  \\\n",
       "XGboost_hyp        0.958429          0.836      0.814018    0.442953   \n",
       "\n",
       "             train_precision  test_precision  \n",
       "XGboost_hyp         0.980769        0.622642  "
      ]
     },
     "execution_count": 93,
     "metadata": {},
     "output_type": "execute_result"
    }
   ],
   "source": [
    "xg_result=pd.DataFrame(eval(xg1, x_train, y_train, x_test, y_test), index=[\"XGboost_hyp\"])\n",
    "xg_result"
   ]
  },
  {
   "cell_type": "code",
   "execution_count": 94,
   "id": "586ec793",
   "metadata": {},
   "outputs": [
    {
     "data": {
      "text/html": [
       "<style type=\"text/css\">\n",
       "#T_fcd4b_row0_col0, #T_fcd4b_row0_col2, #T_fcd4b_row0_col3, #T_fcd4b_row0_col4, #T_fcd4b_row3_col1, #T_fcd4b_row3_col5 {\n",
       "  background-color: green;\n",
       "}\n",
       "</style>\n",
       "<table id=\"T_fcd4b\">\n",
       "  <thead>\n",
       "    <tr>\n",
       "      <th class=\"blank level0\" >&nbsp;</th>\n",
       "      <th id=\"T_fcd4b_level0_col0\" class=\"col_heading level0 col0\" >train_accuracy</th>\n",
       "      <th id=\"T_fcd4b_level0_col1\" class=\"col_heading level0 col1\" >test_accuracy</th>\n",
       "      <th id=\"T_fcd4b_level0_col2\" class=\"col_heading level0 col2\" >train_recall</th>\n",
       "      <th id=\"T_fcd4b_level0_col3\" class=\"col_heading level0 col3\" >test_recal</th>\n",
       "      <th id=\"T_fcd4b_level0_col4\" class=\"col_heading level0 col4\" >train_precision</th>\n",
       "      <th id=\"T_fcd4b_level0_col5\" class=\"col_heading level0 col5\" >test_precision</th>\n",
       "    </tr>\n",
       "  </thead>\n",
       "  <tbody>\n",
       "    <tr>\n",
       "      <th id=\"T_fcd4b_level0_row0\" class=\"row_heading level0 row0\" >XGboost_hyp</th>\n",
       "      <td id=\"T_fcd4b_row0_col0\" class=\"data row0 col0\" >0.958429</td>\n",
       "      <td id=\"T_fcd4b_row0_col1\" class=\"data row0 col1\" >0.836000</td>\n",
       "      <td id=\"T_fcd4b_row0_col2\" class=\"data row0 col2\" >0.814018</td>\n",
       "      <td id=\"T_fcd4b_row0_col3\" class=\"data row0 col3\" >0.442953</td>\n",
       "      <td id=\"T_fcd4b_row0_col4\" class=\"data row0 col4\" >0.980769</td>\n",
       "      <td id=\"T_fcd4b_row0_col5\" class=\"data row0 col5\" >0.622642</td>\n",
       "    </tr>\n",
       "    <tr>\n",
       "      <th id=\"T_fcd4b_level0_row1\" class=\"row_heading level0 row1\" >RndomForest</th>\n",
       "      <td id=\"T_fcd4b_row1_col0\" class=\"data row1 col0\" >0.869714</td>\n",
       "      <td id=\"T_fcd4b_row1_col1\" class=\"data row1 col1\" >0.847000</td>\n",
       "      <td id=\"T_fcd4b_row1_col2\" class=\"data row1 col2\" >0.429563</td>\n",
       "      <td id=\"T_fcd4b_row1_col3\" class=\"data row1 col3\" >0.352349</td>\n",
       "      <td id=\"T_fcd4b_row1_col4\" class=\"data row1 col4\" >0.873061</td>\n",
       "      <td id=\"T_fcd4b_row1_col5\" class=\"data row1 col5\" >0.742049</td>\n",
       "    </tr>\n",
       "    <tr>\n",
       "      <th id=\"T_fcd4b_level0_row2\" class=\"row_heading level0 row2\" >DecisionTree_hyp</th>\n",
       "      <td id=\"T_fcd4b_row2_col0\" class=\"data row2 col0\" >0.851714</td>\n",
       "      <td id=\"T_fcd4b_row2_col1\" class=\"data row2 col1\" >0.844000</td>\n",
       "      <td id=\"T_fcd4b_row2_col2\" class=\"data row2 col2\" >0.374046</td>\n",
       "      <td id=\"T_fcd4b_row2_col3\" class=\"data row2 col3\" >0.348993</td>\n",
       "      <td id=\"T_fcd4b_row2_col4\" class=\"data row2 col4\" >0.798519</td>\n",
       "      <td id=\"T_fcd4b_row2_col5\" class=\"data row2 col5\" >0.722222</td>\n",
       "    </tr>\n",
       "    <tr>\n",
       "      <th id=\"T_fcd4b_level0_row3\" class=\"row_heading level0 row3\" >Adaboost</th>\n",
       "      <td id=\"T_fcd4b_row3_col0\" class=\"data row3 col0\" >0.880714</td>\n",
       "      <td id=\"T_fcd4b_row3_col1\" class=\"data row3 col1\" >0.849000</td>\n",
       "      <td id=\"T_fcd4b_row3_col2\" class=\"data row3 col2\" >0.477446</td>\n",
       "      <td id=\"T_fcd4b_row3_col3\" class=\"data row3 col3\" >0.367450</td>\n",
       "      <td id=\"T_fcd4b_row3_col4\" class=\"data row3 col4\" >0.893506</td>\n",
       "      <td id=\"T_fcd4b_row3_col5\" class=\"data row3 col5\" >0.742373</td>\n",
       "    </tr>\n",
       "    <tr>\n",
       "      <th id=\"T_fcd4b_level0_row4\" class=\"row_heading level0 row4\" >Bagging</th>\n",
       "      <td id=\"T_fcd4b_row4_col0\" class=\"data row4 col0\" >0.851714</td>\n",
       "      <td id=\"T_fcd4b_row4_col1\" class=\"data row4 col1\" >0.846000</td>\n",
       "      <td id=\"T_fcd4b_row4_col2\" class=\"data row4 col2\" >0.371270</td>\n",
       "      <td id=\"T_fcd4b_row4_col3\" class=\"data row4 col3\" >0.347315</td>\n",
       "      <td id=\"T_fcd4b_row4_col4\" class=\"data row4 col4\" >0.802099</td>\n",
       "      <td id=\"T_fcd4b_row4_col5\" class=\"data row4 col5\" >0.739286</td>\n",
       "    </tr>\n",
       "  </tbody>\n",
       "</table>\n"
      ],
      "text/plain": [
       "<pandas.io.formats.style.Styler at 0x2d17ffc7910>"
      ]
     },
     "execution_count": 94,
     "metadata": {},
     "output_type": "execute_result"
    }
   ],
   "source": [
    "final=pd.concat([xg_result, rf_result, dt_result,ad_result,bg_result])\n",
    "final.style.highlight_max(color=\"green\")"
   ]
  },
  {
   "cell_type": "markdown",
   "id": "77123eb9",
   "metadata": {},
   "source": [
    "### We can see , we have appiled 5 models and then we got some better result form models which are given above in the table . \n",
    "### Our best model is XGboost_hyp "
   ]
  },
  {
   "cell_type": "code",
   "execution_count": null,
   "id": "5d749da1",
   "metadata": {},
   "outputs": [],
   "source": []
  }
 ],
 "metadata": {
  "kernelspec": {
   "display_name": "Python 3 (ipykernel)",
   "language": "python",
   "name": "python3"
  },
  "language_info": {
   "codemirror_mode": {
    "name": "ipython",
    "version": 3
   },
   "file_extension": ".py",
   "mimetype": "text/x-python",
   "name": "python",
   "nbconvert_exporter": "python",
   "pygments_lexer": "ipython3",
   "version": "3.9.13"
  }
 },
 "nbformat": 4,
 "nbformat_minor": 5
}
